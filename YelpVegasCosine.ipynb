{
 "cells": [
  {
   "cell_type": "markdown",
   "metadata": {},
   "source": [
    "### This  file is specific to preprocessing and first-round data cleaning requirements. Take the new JSON files generated from here and use it separately for the purposes of exploration and modelling"
   ]
  },
  {
   "cell_type": "code",
   "execution_count": null,
   "metadata": {
    "collapsed": true
   },
   "outputs": [],
   "source": [
    "import numpy as np\n",
    "import scipy\n",
    "import random\n",
    "import urllib\n",
    "import matplotlib.pyplot as plt\n",
    "import json"
   ]
  },
  {
   "cell_type": "code",
   "execution_count": null,
   "metadata": {
    "collapsed": true
   },
   "outputs": [],
   "source": [
    "random.seed(0) #set an initial seed so that we can reproduce consistently"
   ]
  },
  {
   "cell_type": "code",
   "execution_count": null,
   "metadata": {
    "collapsed": false
   },
   "outputs": [],
   "source": [
    "def readJSONfromFile(fname):\n",
    "    yelp_data = []\n",
    "    with open(fname) as f:\n",
    "        for line in f:\n",
    "            yelp_data.append(json.loads(line))\n",
    "    return yelp_data"
   ]
  },
  {
   "cell_type": "code",
   "execution_count": null,
   "metadata": {
    "collapsed": false,
    "scrolled": true
   },
   "outputs": [],
   "source": [
    "IuVegas = readJSONfromFile('yelp_user_IuVegas.json')\n",
    "UiVegas = readJSONfromFile('yelp_user_UiVegas.json')"
   ]
  },
  {
   "cell_type": "code",
   "execution_count": null,
   "metadata": {
    "collapsed": true
   },
   "outputs": [],
   "source": [
    "IuVegas = IuVegas[0]\n",
    "UiVegas = UiVegas[0]"
   ]
  },
  {
   "cell_type": "code",
   "execution_count": null,
   "metadata": {
    "collapsed": true
   },
   "outputs": [],
   "source": [
    "I = readJSONfromFile('data/yelp_restaurant_data.json')"
   ]
  },
  {
   "cell_type": "code",
   "execution_count": null,
   "metadata": {
    "collapsed": true
   },
   "outputs": [],
   "source": [
    "I = I[0]"
   ]
  },
  {
   "cell_type": "code",
   "execution_count": null,
   "metadata": {
    "collapsed": false
   },
   "outputs": [],
   "source": [
    "#I[:10]"
   ]
  },
  {
   "cell_type": "code",
   "execution_count": null,
   "metadata": {
    "collapsed": false
   },
   "outputs": [],
   "source": [
    "VegasUser = []\n",
    "for user in IuVegas.keys():\n",
    "    if len(IuVegas[user]) >= 10:\n",
    "        VegasUser.append(user)"
   ]
  },
  {
   "cell_type": "code",
   "execution_count": null,
   "metadata": {
    "collapsed": false
   },
   "outputs": [],
   "source": [
    "len(IuVegas[VegasUser[0]])\n"
   ]
  },
  {
   "cell_type": "code",
   "execution_count": null,
   "metadata": {
    "collapsed": false
   },
   "outputs": [],
   "source": [
    "len(IuVegas)"
   ]
  },
  {
   "cell_type": "code",
   "execution_count": null,
   "metadata": {
    "collapsed": true
   },
   "outputs": [],
   "source": [
    "S_ui_test = {}"
   ]
  },
  {
   "cell_type": "code",
   "execution_count": null,
   "metadata": {
    "collapsed": false
   },
   "outputs": [],
   "source": [
    "for user in VegasUser:\n",
    "    temp = random.choice(IuVegas[user])\n",
    "    IuVegas[user].remove(temp)\n",
    "    S_ui_test[user] = temp"
   ]
  },
  {
   "cell_type": "code",
   "execution_count": null,
   "metadata": {
    "collapsed": false
   },
   "outputs": [],
   "source": [
    "len(IuVegas[VegasUser[0]])"
   ]
  },
  {
   "cell_type": "code",
   "execution_count": null,
   "metadata": {
    "collapsed": false
   },
   "outputs": [],
   "source": [
    "len(S_ui_test)"
   ]
  },
  {
   "cell_type": "code",
   "execution_count": null,
   "metadata": {
    "collapsed": false
   },
   "outputs": [],
   "source": [
    "len(VegasUser)"
   ]
  },
  {
   "cell_type": "code",
   "execution_count": null,
   "metadata": {
    "collapsed": true
   },
   "outputs": [],
   "source": [
    "VegasRest = UiVegas.keys()"
   ]
  },
  {
   "cell_type": "code",
   "execution_count": null,
   "metadata": {
    "collapsed": false
   },
   "outputs": [],
   "source": [
    "len(VegasUser)"
   ]
  },
  {
   "cell_type": "code",
   "execution_count": null,
   "metadata": {
    "collapsed": true
   },
   "outputs": [],
   "source": [
    "Ui = UiVegas\n",
    "UiVegas = {}"
   ]
  },
  {
   "cell_type": "code",
   "execution_count": null,
   "metadata": {
    "collapsed": true
   },
   "outputs": [],
   "source": [
    "for rest in VegasRest:\n",
    "    UiVegas[rest] = []"
   ]
  },
  {
   "cell_type": "code",
   "execution_count": null,
   "metadata": {
    "collapsed": false
   },
   "outputs": [],
   "source": [
    "for rest in VegasRest:\n",
    "    for u in Ui[rest]:\n",
    "        if u in VegasUser:\n",
    "            UiVegas[rest].append(u)"
   ]
  },
  {
   "cell_type": "code",
   "execution_count": null,
   "metadata": {
    "collapsed": false,
    "scrolled": true
   },
   "outputs": [],
   "source": [
    "len(VegasUser)"
   ]
  },
  {
   "cell_type": "code",
   "execution_count": null,
   "metadata": {
    "collapsed": false
   },
   "outputs": [],
   "source": [
    "IV = readJSONfromFile('yelp_vegas_reviewrating_data.json')"
   ]
  },
  {
   "cell_type": "code",
   "execution_count": null,
   "metadata": {
    "collapsed": false
   },
   "outputs": [],
   "source": [
    "IVegas=IV[0]"
   ]
  },
  {
   "cell_type": "code",
   "execution_count": null,
   "metadata": {
    "collapsed": false
   },
   "outputs": [],
   "source": [
    "len(IVegas)"
   ]
  },
  {
   "cell_type": "code",
   "execution_count": null,
   "metadata": {
    "collapsed": false
   },
   "outputs": [],
   "source": [
    "IVegas[0]"
   ]
  },
  {
   "cell_type": "code",
   "execution_count": null,
   "metadata": {
    "collapsed": true
   },
   "outputs": [],
   "source": [
    "Index_u = {}\n",
    "Index_r = {}\n",
    "count = 0\n",
    "for user in VegasUser:\n",
    "    Index_u[user] = count\n",
    "    count += 1\n",
    "count = 0\n",
    "for rest in VegasRest:\n",
    "    Index_r[rest] = count\n",
    "    count += 1"
   ]
  },
  {
   "cell_type": "code",
   "execution_count": null,
   "metadata": {
    "collapsed": false
   },
   "outputs": [],
   "source": [
    "M = np.zeros((len(VegasRest),len(VegasUser)),dtype=np.float32)\n"
   ]
  },
  {
   "cell_type": "code",
   "execution_count": null,
   "metadata": {
    "collapsed": false
   },
   "outputs": [],
   "source": [
    "M.shape"
   ]
  },
  {
   "cell_type": "code",
   "execution_count": null,
   "metadata": {
    "collapsed": true
   },
   "outputs": [],
   "source": [
    "R = {}"
   ]
  },
  {
   "cell_type": "code",
   "execution_count": null,
   "metadata": {
    "collapsed": true
   },
   "outputs": [],
   "source": [
    "for i in IVegas:\n",
    "    R[(i['user_id'],i['business_id'])] = i['stars']"
   ]
  },
  {
   "cell_type": "code",
   "execution_count": null,
   "metadata": {
    "collapsed": false
   },
   "outputs": [],
   "source": [
    "for user in VegasUser:\n",
    "    for rest in VegasRest:\n",
    "        if R.has_key((user,rest)):\n",
    "            M[Index_r[rest]][Index_u[user]] = R[(user,rest)]"
   ]
  },
  {
   "cell_type": "code",
   "execution_count": null,
   "metadata": {
    "collapsed": true
   },
   "outputs": [],
   "source": [
    "for user in S_ui_test.keys():\n",
    "    M[Index_r[S_ui_test[user]]][Index_u[user]] = 0"
   ]
  },
  {
   "cell_type": "code",
   "execution_count": null,
   "metadata": {
    "collapsed": false
   },
   "outputs": [],
   "source": [
    "M.shape[0]"
   ]
  },
  {
   "cell_type": "code",
   "execution_count": null,
   "metadata": {
    "collapsed": false
   },
   "outputs": [],
   "source": [
    "for i in range(M.shape[0]):\n",
    "    if np.linalg.norm(M[i]) != 0:\n",
    "        M[i] = M[i]-np.mean(M[i])\n",
    "        M[i] = M[i]*1.0/np.linalg.norm(M[i])"
   ]
  },
  {
   "cell_type": "code",
   "execution_count": null,
   "metadata": {
    "collapsed": false
   },
   "outputs": [],
   "source": [
    "Similarity_rr = np.matmul(M,M.T )\n"
   ]
  },
  {
   "cell_type": "code",
   "execution_count": null,
   "metadata": {
    "collapsed": true
   },
   "outputs": [],
   "source": [
    "def rating(user,b):\n",
    "    su1 = 0\n",
    "    su2 = 0\n",
    "    for i in IuVegas[user]:\n",
    "        su1 += Similarity_rr[Index_r[i]][Index_r[b]]*R[(user,i)]\n",
    "        su2 += np.abs(Similarity_rr[Index_r[i]][Index_r[b]])\n",
    "    if su2 == 0:\n",
    "        return 0\n",
    "    return su1*1.0/su2"
   ]
  },
  {
   "cell_type": "code",
   "execution_count": null,
   "metadata": {
    "collapsed": false,
    "scrolled": false
   },
   "outputs": [],
   "source": [
    "total = 0\n",
    "count = 0\n",
    "for user in VegasUser:\n",
    "    count += 1\n",
    "    print count\n",
    "    su = 0\n",
    "    i = S_ui_test[user]\n",
    "    jAbsent = list(set(VegasRest) - set(IuVegas[user]) - set(S_ui_test))\n",
    "    for j in jAbsent:\n",
    "#         print np.dot(Gamma_u[user],Gamma_r[i]),np.dot(Gamma_u[user],Gamma_r[j]),j\n",
    "        if rating(user,i) > rating(user,j):\n",
    "            su += 1\n",
    "    total += su*1.0/(len(jAbsent))\n",
    "total = total*1.0/(len(VegasUser))\n",
    "print total"
   ]
  },
  {
   "cell_type": "markdown",
   "metadata": {},
   "source": [
    "0.619692596547 for 10 iterations"
   ]
  },
  {
   "cell_type": "code",
   "execution_count": null,
   "metadata": {
    "collapsed": true
   },
   "outputs": [],
   "source": [
    "iterations = 1000000000"
   ]
  },
  {
   "cell_type": "code",
   "execution_count": null,
   "metadata": {
    "collapsed": false,
    "scrolled": false
   },
   "outputs": [],
   "source": [
    "len(val_l)"
   ]
  },
  {
   "cell_type": "code",
   "execution_count": null,
   "metadata": {
    "collapsed": false,
    "scrolled": true
   },
   "outputs": [],
   "source": [
    "plt.plot(range(50),val_l)\n",
    "plt.show()"
   ]
  },
  {
   "cell_type": "code",
   "execution_count": null,
   "metadata": {
    "collapsed": false,
    "scrolled": true
   },
   "outputs": [],
   "source": [
    "plt.plot(range(100),train_l)\n",
    "plt.show()"
   ]
  },
  {
   "cell_type": "code",
   "execution_count": null,
   "metadata": {
    "collapsed": false
   },
   "outputs": [],
   "source": [
    "total = 0\n",
    "count = 0\n",
    "for user in VegasUser:\n",
    "    count += 1\n",
    "    print count\n",
    "    su = 0\n",
    "    i = S_ui_test[user]\n",
    "    jAbsent = []\n",
    "    if S_uj_train.has_key(user):\n",
    "        jAbsent = list(set(VegasRest) - set(S_uj_train[user]) - set(S_ui_test))\n",
    "    else:\n",
    "        jAbsent = list(set(VegasRest) - set(S_ui_test))\n",
    "    \n",
    "    for j in jAbsent:\n",
    "        if np.dot(Gamma_u[user],Gamma_r[i]) > np.dot(Gamma_u[user],Gamma_r[j]):\n",
    "            su += 1\n",
    "    total += su*1.0/(len(jAbsent))\n",
    "total = total*1.0/(len(VegasUser))\n",
    "print total"
   ]
  },
  {
   "cell_type": "markdown",
   "metadata": {},
   "source": [
    "0.01, Sai's method, 10**-4, 10000 iter, K = 10, AUC = 0.515965891654"
   ]
  },
  {
   "cell_type": "markdown",
   "metadata": {
    "collapsed": true
   },
   "source": [
    "### Baseline"
   ]
  },
  {
   "cell_type": "code",
   "execution_count": null,
   "metadata": {
    "collapsed": true
   },
   "outputs": [],
   "source": [
    "UiVegas_b = readJSONfromFile('yelp_user_UiVegas.json') \n",
    "UiVegas_b = UiVegas_b[0]"
   ]
  },
  {
   "cell_type": "code",
   "execution_count": null,
   "metadata": {
    "collapsed": false
   },
   "outputs": [],
   "source": [
    "Ui_len= {}\n",
    "for rest in UiVegas_b:\n",
    "    Ui_len[rest]= len(UiVegas_b[rest])\n"
   ]
  },
  {
   "cell_type": "code",
   "execution_count": null,
   "metadata": {
    "collapsed": false
   },
   "outputs": [],
   "source": [
    "total = 0\n",
    "count = 0\n",
    "for user in VegasUser:\n",
    "    #count += 1\n",
    "    #print count\n",
    "    su = 0\n",
    "    i = S_ui_test[user]\n",
    "    xui = Ui_len[i]\n",
    "    jAbsent = []\n",
    "    if S_uj_train.has_key(user):\n",
    "        jAbsent = list(set(VegasRest) - set(S_uj_train[user]) - set(S_ui_test))\n",
    "    else:\n",
    "        jAbsent = list(set(VegasRest) - set(S_ui_test))\n",
    "    \n",
    "    for j in jAbsent:\n",
    "        xuj = Ui_len[j]\n",
    "        if xui > xuj :\n",
    "            su += 1\n",
    "    total += su*1.0/(len(jAbsent))\n",
    "total = total*1.0/(len(VegasUser))\n"
   ]
  },
  {
   "cell_type": "code",
   "execution_count": null,
   "metadata": {
    "collapsed": false
   },
   "outputs": [],
   "source": [
    "print(\"Baseline AUC ={}\".format(total))"
   ]
  },
  {
   "cell_type": "code",
   "execution_count": null,
   "metadata": {
    "collapsed": true
   },
   "outputs": [],
   "source": []
  }
 ],
 "metadata": {
  "anaconda-cloud": {},
  "kernelspec": {
   "display_name": "Python 2",
   "language": "python",
   "name": "python2"
  },
  "language_info": {
   "codemirror_mode": {
    "name": "ipython",
    "version": 2
   },
   "file_extension": ".py",
   "mimetype": "text/x-python",
   "name": "python",
   "nbconvert_exporter": "python",
   "pygments_lexer": "ipython2",
   "version": "2.7.13"
  }
 },
 "nbformat": 4,
 "nbformat_minor": 2
}
