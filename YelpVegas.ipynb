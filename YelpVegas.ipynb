{
 "cells": [
  {
   "cell_type": "code",
   "execution_count": 1,
   "metadata": {
    "collapsed": true
   },
   "outputs": [],
   "source": [
    "import numpy as np\n",
    "import scipy\n",
    "import random\n",
    "import urllib\n",
    "import matplotlib.pyplot as plt\n",
    "import json"
   ]
  },
  {
   "cell_type": "code",
   "execution_count": 2,
   "metadata": {
    "collapsed": true
   },
   "outputs": [],
   "source": [
    "random.seed(0) #set an initial seed so that we can reproduce consistently"
   ]
  },
  {
   "cell_type": "code",
   "execution_count": 3,
   "metadata": {
    "collapsed": false
   },
   "outputs": [],
   "source": [
    "def readJSONfromFile(fname):\n",
    "    yelp_data = []\n",
    "    with open(fname) as f:\n",
    "        for line in f:\n",
    "            yelp_data.append(json.loads(line))\n",
    "    return yelp_data"
   ]
  },
  {
   "cell_type": "code",
   "execution_count": 4,
   "metadata": {
    "collapsed": false,
    "scrolled": true
   },
   "outputs": [],
   "source": [
    "Iu = readJSONfromFile('data/yelp_Iu.json')"
   ]
  },
  {
   "cell_type": "code",
   "execution_count": 5,
   "metadata": {
    "collapsed": true
   },
   "outputs": [],
   "source": [
    "Iu = Iu[0]"
   ]
  },
  {
   "cell_type": "code",
   "execution_count": 6,
   "metadata": {
    "collapsed": false
   },
   "outputs": [
    {
     "data": {
      "text/plain": [
       "721779"
      ]
     },
     "execution_count": 6,
     "metadata": {},
     "output_type": "execute_result"
    }
   ],
   "source": [
    "len(Iu.keys())"
   ]
  },
  {
   "cell_type": "code",
   "execution_count": 7,
   "metadata": {
    "collapsed": true
   },
   "outputs": [],
   "source": [
    "Ui = readJSONfromFile('data/yelp_Ui.json')"
   ]
  },
  {
   "cell_type": "code",
   "execution_count": 8,
   "metadata": {
    "collapsed": true
   },
   "outputs": [],
   "source": [
    "Ui = Ui[0]"
   ]
  },
  {
   "cell_type": "code",
   "execution_count": 9,
   "metadata": {
    "collapsed": true
   },
   "outputs": [],
   "source": [
    "I = readJSONfromFile('data/yelp_restaurant_data.json')"
   ]
  },
  {
   "cell_type": "code",
   "execution_count": 10,
   "metadata": {
    "collapsed": true
   },
   "outputs": [],
   "source": [
    "I = I[0]"
   ]
  },
  {
   "cell_type": "code",
   "execution_count": 12,
   "metadata": {
    "collapsed": false
   },
   "outputs": [],
   "source": [
    "VegasRest = []\n",
    "for i in I:\n",
    "    if i['city'] == 'Las Vegas':\n",
    "        VegasRest.append(i['business_id'])"
   ]
  },
  {
   "cell_type": "code",
   "execution_count": 13,
   "metadata": {
    "collapsed": false
   },
   "outputs": [
    {
     "data": {
      "text/plain": [
       "5431"
      ]
     },
     "execution_count": 13,
     "metadata": {},
     "output_type": "execute_result"
    }
   ],
   "source": [
    "len(VegasRest)"
   ]
  },
  {
   "cell_type": "code",
   "execution_count": 14,
   "metadata": {
    "collapsed": true
   },
   "outputs": [],
   "source": [
    "AllUser = Iu.keys()"
   ]
  },
  {
   "cell_type": "code",
   "execution_count": 15,
   "metadata": {
    "collapsed": false
   },
   "outputs": [
    {
     "data": {
      "text/plain": [
       "721779"
      ]
     },
     "execution_count": 15,
     "metadata": {},
     "output_type": "execute_result"
    }
   ],
   "source": [
    "len(AllUser)"
   ]
  },
  {
   "cell_type": "code",
   "execution_count": 16,
   "metadata": {
    "collapsed": false,
    "scrolled": false
   },
   "outputs": [
    {
     "name": "stdout",
     "output_type": "stream",
     "text": [
      "2aFiy99vNLklCx3T_tGS9A\n",
      "2aFiy99vNLklCx3T_tGS9A\n",
      "2aFiy99vNLklCx3T_tGS9A\n",
      "2LfIuF3_sX6uwe-IR-P0jQ\n",
      "2LfIuF3_sX6uwe-IR-P0jQ\n",
      "2LfIuF3_sX6uwe-IR-P0jQ\n",
      "2LfIuF3_sX6uwe-IR-P0jQ\n",
      "2LfIuF3_sX6uwe-IR-P0jQ\n",
      "2LfIuF3_sX6uwe-IR-P0jQ\n",
      "2LfIuF3_sX6uwe-IR-P0jQ\n"
     ]
    }
   ],
   "source": [
    "IuVegas = {}\n",
    "count = 0\n",
    "with open(\"data/yelp_academic_dataset_review.json\", \"U\") as f:\n",
    "    for line in f:\n",
    "        count += 1\n",
    "        if count > 10:\n",
    "            break\n",
    "        review = json.loads(line)\n",
    "        rest = review[\"business_id\"]\n",
    "        print rest\n",
    "#         print I[rest]['city']\n",
    "        if rest in VegasRest:\n",
    "            user = review[\"user_id\"]\n",
    "            print rest, user\n",
    "            if IuVegas.has_key(user):\n",
    "                IuVegas[user].append(rest)\n",
    "            else:\n",
    "                IuVegas[user] = [rest]"
   ]
  },
  {
   "cell_type": "code",
   "execution_count": 17,
   "metadata": {
    "collapsed": false
   },
   "outputs": [
    {
     "data": {
      "text/plain": [
       "0"
      ]
     },
     "execution_count": 17,
     "metadata": {},
     "output_type": "execute_result"
    }
   ],
   "source": [
    "len(IuVegas.keys())"
   ]
  },
  {
   "cell_type": "code",
   "execution_count": 18,
   "metadata": {
    "collapsed": false
   },
   "outputs": [
    {
     "name": "stdout",
     "output_type": "stream",
     "text": [
      "0\n",
      "1\n",
      "2\n",
      "3\n",
      "4\n",
      "5\n",
      "6\n",
      "7\n",
      "8\n",
      "9\n",
      "10\n",
      "11\n",
      "12\n",
      "13\n",
      "14\n",
      "15\n",
      "16\n",
      "17\n",
      "18\n",
      "19\n",
      "20\n",
      "21\n",
      "22\n",
      "23\n",
      "24\n",
      "25\n",
      "26\n",
      "27\n",
      "28\n",
      "29\n",
      "30\n",
      "31\n",
      "32\n",
      "33\n",
      "34\n",
      "35\n",
      "36\n",
      "37\n",
      "38\n",
      "39\n",
      "40\n",
      "41\n",
      "42\n",
      "43\n",
      "44\n",
      "45\n",
      "46\n",
      "47\n",
      "48\n",
      "49\n",
      "50\n",
      "51\n",
      "52\n",
      "53\n",
      "54\n",
      "55\n",
      "56\n",
      "57\n",
      "58\n",
      "59\n",
      "60\n",
      "61\n",
      "62\n",
      "63\n",
      "64\n",
      "65\n",
      "66\n",
      "67\n",
      "68\n",
      "69\n",
      "70\n",
      "71\n",
      "72\n",
      "73\n",
      "74\n",
      "75\n",
      "76\n",
      "77\n",
      "78\n",
      "79\n",
      "80\n",
      "81\n",
      "82\n",
      "83\n",
      "84\n",
      "85\n",
      "86\n",
      "87\n",
      "88\n",
      "89\n",
      "90\n",
      "91\n",
      "92\n",
      "93\n",
      "94\n",
      "95\n",
      "96\n",
      "97\n",
      "98\n",
      "99\n",
      "100\n",
      "101\n",
      "102\n",
      "103\n",
      "104\n",
      "105\n",
      "106\n",
      "107\n",
      "108\n",
      "109\n",
      "110\n",
      "111\n",
      "112\n",
      "113\n",
      "114\n",
      "115\n",
      "116\n",
      "117\n",
      "118\n",
      "119\n",
      "120\n",
      "121\n",
      "122\n",
      "123\n",
      "124\n",
      "125\n",
      "126\n",
      "127\n",
      "128\n",
      "129\n",
      "130\n",
      "131\n",
      "132\n",
      "133\n",
      "134\n",
      "135\n",
      "136\n",
      "137\n",
      "138\n",
      "139\n",
      "140\n",
      "141\n",
      "142\n",
      "143\n",
      "144\n",
      "145\n",
      "146\n",
      "147\n",
      "148\n",
      "149\n",
      "150\n",
      "151\n",
      "152\n",
      "153\n",
      "154\n",
      "155\n",
      "156\n",
      "157\n",
      "158\n",
      "159\n",
      "160\n",
      "161\n",
      "162\n",
      "163\n",
      "164\n",
      "165\n",
      "166\n",
      "167\n",
      "168\n",
      "169\n",
      "170\n",
      "171\n",
      "172\n",
      "173\n",
      "174\n",
      "175\n",
      "176\n",
      "177\n",
      "178\n",
      "179\n",
      "180\n",
      "181\n",
      "182\n",
      "183\n",
      "184\n",
      "185\n",
      "186\n",
      "187\n",
      "188\n",
      "189\n",
      "190\n",
      "191\n",
      "192\n",
      "193\n",
      "194\n",
      "195\n",
      "196\n",
      "197\n",
      "198\n",
      "199\n",
      "200\n",
      "201\n",
      "202\n",
      "203\n",
      "204\n",
      "205\n",
      "206\n",
      "207\n",
      "208\n",
      "209\n",
      "210\n",
      "211\n",
      "212\n",
      "213\n",
      "214\n",
      "215\n",
      "216\n",
      "217\n",
      "218\n",
      "219\n",
      "220\n",
      "221\n",
      "222\n",
      "223\n",
      "224\n",
      "225\n",
      "226\n",
      "227\n",
      "228\n",
      "229\n",
      "230\n",
      "231\n",
      "232\n",
      "233\n",
      "234\n",
      "235\n",
      "236\n",
      "237\n",
      "238\n",
      "239\n",
      "240\n",
      "241\n",
      "242\n",
      "243\n",
      "244\n",
      "245\n",
      "246\n",
      "247\n",
      "248\n",
      "249\n",
      "250\n",
      "251\n",
      "252\n",
      "253\n",
      "254\n",
      "255\n",
      "256\n",
      "257\n",
      "258\n",
      "259\n",
      "260\n",
      "261\n",
      "262\n",
      "263\n",
      "264\n",
      "265\n",
      "266\n",
      "267\n",
      "268\n",
      "269\n",
      "270\n",
      "271\n",
      "272\n",
      "273\n",
      "274\n",
      "275\n",
      "276\n",
      "277\n",
      "278\n",
      "279\n",
      "280\n",
      "281\n",
      "282\n",
      "283\n",
      "284\n",
      "285\n",
      "286\n",
      "287\n",
      "288\n",
      "289\n",
      "290\n",
      "291\n",
      "292\n",
      "293\n",
      "294\n",
      "295\n",
      "296\n",
      "297\n",
      "298\n",
      "299\n",
      "300\n",
      "301\n",
      "302\n",
      "303\n",
      "304\n",
      "305\n",
      "306\n",
      "307\n",
      "308\n",
      "309\n",
      "310\n",
      "311\n",
      "312\n",
      "313\n",
      "314\n",
      "315\n",
      "316\n",
      "317\n",
      "318\n",
      "319\n",
      "320\n",
      "321\n",
      "322\n",
      "323\n",
      "324\n",
      "325\n",
      "326\n",
      "327\n",
      "328\n",
      "329\n",
      "330\n",
      "331\n",
      "332\n",
      "333\n",
      "334\n",
      "335\n",
      "336\n",
      "337\n",
      "338\n",
      "339\n",
      "340\n",
      "341\n",
      "342\n",
      "343\n",
      "344\n",
      "345\n",
      "346\n",
      "347\n",
      "348\n",
      "349\n",
      "350\n",
      "351\n",
      "352\n",
      "353\n",
      "354\n",
      "355\n",
      "356\n",
      "357\n",
      "358\n",
      "359\n",
      "360\n",
      "361\n",
      "362\n",
      "363\n",
      "364\n",
      "365\n",
      "366\n",
      "367\n",
      "368\n",
      "369\n",
      "370\n",
      "371\n",
      "372\n",
      "373\n",
      "374\n",
      "375\n",
      "376\n",
      "377\n",
      "378\n",
      "379\n",
      "380\n",
      "381\n",
      "382\n",
      "383\n",
      "384\n",
      "385\n",
      "386\n",
      "387\n",
      "388\n",
      "389\n",
      "390\n",
      "391\n",
      "392\n",
      "393\n",
      "394\n",
      "395\n",
      "396\n",
      "397\n",
      "398\n",
      "399\n",
      "400\n",
      "401\n",
      "402\n",
      "403\n",
      "404\n",
      "405\n",
      "406\n",
      "407\n",
      "408\n",
      "409\n",
      "410\n",
      "411\n",
      "412\n",
      "413\n",
      "414\n",
      "415\n",
      "416\n",
      "417\n",
      "418\n",
      "419\n",
      "420\n",
      "421\n",
      "422\n",
      "423\n",
      "424\n",
      "425\n",
      "426\n",
      "427\n",
      "428\n",
      "429\n",
      "430\n",
      "431\n",
      "432\n",
      "433\n",
      "434\n",
      "435\n",
      "436\n",
      "437\n",
      "438\n",
      "439\n",
      "440\n",
      "441\n",
      "442\n",
      "443\n",
      "444\n",
      "445\n",
      "446\n",
      "447\n",
      "448\n",
      "449\n",
      "450\n",
      "451\n",
      "452\n",
      "453\n",
      "454\n",
      "455\n",
      "456\n",
      "457\n",
      "458\n",
      "459\n",
      "460\n",
      "461\n",
      "462\n",
      "463\n",
      "464\n",
      "465\n",
      "466\n",
      "467\n",
      "468\n",
      "469\n",
      "470\n",
      "471\n",
      "472\n",
      "473\n",
      "474\n",
      "475\n",
      "476\n",
      "477\n",
      "478\n",
      "479\n",
      "480\n",
      "481\n",
      "482\n",
      "483\n",
      "484\n",
      "485\n",
      "486\n",
      "487\n",
      "488\n",
      "489\n",
      "490\n",
      "491\n",
      "492\n",
      "493\n",
      "494\n",
      "495\n",
      "496\n",
      "497\n",
      "498\n",
      "499\n",
      "500\n",
      "501\n",
      "502\n",
      "503\n",
      "504\n",
      "505\n",
      "506\n",
      "507\n",
      "508\n",
      "509\n",
      "510\n",
      "511\n",
      "512\n",
      "513\n",
      "514\n",
      "515\n",
      "516\n",
      "517\n",
      "518\n",
      "519\n",
      "520\n",
      "521\n",
      "522\n",
      "523\n",
      "524\n",
      "525\n",
      "526\n",
      "527\n",
      "528\n",
      "529\n",
      "530\n",
      "531\n",
      "532\n",
      "533\n",
      "534\n",
      "535\n",
      "536\n",
      "537\n",
      "538\n",
      "539\n",
      "540\n",
      "541\n",
      "542\n",
      "543\n",
      "544\n",
      "545\n",
      "546\n",
      "547\n",
      "548\n",
      "549\n",
      "550\n",
      "551\n",
      "552\n",
      "553\n",
      "554\n",
      "555\n",
      "556\n",
      "557\n",
      "558\n",
      "559\n",
      "560\n",
      "561\n",
      "562\n",
      "563\n",
      "564\n",
      "565\n",
      "566\n",
      "567\n",
      "568\n",
      "569\n",
      "570\n",
      "571\n",
      "572\n",
      "573\n",
      "574\n",
      "575\n",
      "576\n",
      "577\n",
      "578\n",
      "579\n",
      "580\n",
      "581\n",
      "582\n",
      "583\n",
      "584\n",
      "585\n",
      "586\n",
      "587\n",
      "588\n",
      "589\n",
      "590\n",
      "591\n",
      "592\n",
      "593\n",
      "594\n",
      "595\n",
      "596\n",
      "597\n",
      "598\n",
      "599\n",
      "600\n",
      "601\n",
      "602\n",
      "603\n",
      "604\n",
      "605\n",
      "606\n",
      "607\n",
      "608\n",
      "609\n",
      "610\n",
      "611\n",
      "612\n",
      "613\n",
      "614\n",
      "615\n",
      "616\n",
      "617\n",
      "618\n",
      "619\n",
      "620\n",
      "621\n",
      "622\n",
      "623\n",
      "624\n",
      "625\n",
      "626\n",
      "627\n",
      "628\n",
      "629\n",
      "630\n",
      "631\n",
      "632\n",
      "633\n",
      "634\n",
      "635\n",
      "636\n",
      "637\n",
      "638\n",
      "639\n",
      "640\n",
      "641\n",
      "642\n",
      "643\n",
      "644\n",
      "645\n",
      "646\n",
      "647\n",
      "648\n",
      "649\n",
      "650\n",
      "651\n",
      "652\n",
      "653\n",
      "654\n",
      "655\n",
      "656\n",
      "657\n",
      "658\n",
      "659\n",
      "660\n",
      "661\n",
      "662\n",
      "663\n",
      "664\n",
      "665\n",
      "666\n",
      "667\n",
      "668\n",
      "669\n",
      "670\n",
      "671\n",
      "672\n",
      "673\n",
      "674\n",
      "675\n",
      "676\n",
      "677\n",
      "678\n",
      "679\n",
      "680\n",
      "681\n",
      "682\n",
      "683\n",
      "684\n",
      "685\n",
      "686\n",
      "687\n",
      "688\n",
      "689\n",
      "690\n",
      "691\n",
      "692\n",
      "693\n",
      "694\n",
      "695\n",
      "696\n",
      "697\n",
      "698\n",
      "699\n",
      "700\n",
      "701\n",
      "702\n",
      "703\n",
      "704\n",
      "705\n",
      "706\n",
      "707\n",
      "708\n",
      "709\n",
      "710\n",
      "711\n",
      "712\n",
      "713\n",
      "714\n",
      "715\n",
      "716\n",
      "717\n",
      "718\n",
      "719\n",
      "720\n",
      "721\n"
     ]
    }
   ],
   "source": [
    "IuVegas = {}\n",
    "count = 0\n",
    "for user in AllUser:\n",
    "    if count%1000 == 0:\n",
    "        print count/1000\n",
    "    count += 1\n",
    "    for rest in Iu[user]:\n",
    "        if rest in VegasRest:\n",
    "            if IuVegas.has_key(user):\n",
    "                IuVegas[user].append(rest)\n",
    "            else:\n",
    "                IuVegas[user] = [rest]"
   ]
  },
  {
   "cell_type": "code",
   "execution_count": 19,
   "metadata": {
    "collapsed": false
   },
   "outputs": [
    {
     "data": {
      "text/plain": [
       "275012"
      ]
     },
     "execution_count": 19,
     "metadata": {},
     "output_type": "execute_result"
    }
   ],
   "source": [
    "len(IuVegas.keys())"
   ]
  },
  {
   "cell_type": "code",
   "execution_count": 20,
   "metadata": {
    "collapsed": false
   },
   "outputs": [
    {
     "name": "stdout",
     "output_type": "stream",
     "text": [
      "File written\n"
     ]
    }
   ],
   "source": [
    "with open(\"data/yelp_user_IuVegas.json\",\"w\") as outfile:\n",
    "    json.dump(IuVegas,outfile)\n",
    "\n",
    "print(\"File written\")\n",
    "outfile.close()"
   ]
  },
  {
   "cell_type": "code",
   "execution_count": 21,
   "metadata": {
    "collapsed": true
   },
   "outputs": [],
   "source": [
    "UiVegas = {}\n",
    "for rest in VegasRest:\n",
    "    UiVegas[rest] = Ui[rest]"
   ]
  },
  {
   "cell_type": "code",
   "execution_count": 22,
   "metadata": {
    "collapsed": false
   },
   "outputs": [
    {
     "name": "stdout",
     "output_type": "stream",
     "text": [
      "File written\n"
     ]
    }
   ],
   "source": [
    "with open(\"data/yelp_user_UiVegas.json\",\"w\") as outfile:\n",
    "    json.dump(UiVegas,outfile)\n",
    "\n",
    "print(\"File written\")\n",
    "outfile.close()"
   ]
  },
  {
   "cell_type": "code",
   "execution_count": 99,
   "metadata": {
    "collapsed": true
   },
   "outputs": [],
   "source": [
    "VegasUser = []\n",
    "for user in IuVegas.keys():\n",
    "    if len(IuVegas[user]) >= 10:\n",
    "        VegasUser.append(user)"
   ]
  },
  {
   "cell_type": "code",
   "execution_count": 101,
   "metadata": {
    "collapsed": false
   },
   "outputs": [
    {
     "data": {
      "text/plain": [
       "11264"
      ]
     },
     "execution_count": 101,
     "metadata": {},
     "output_type": "execute_result"
    }
   ],
   "source": [
    "len(VegasUser)"
   ]
  },
  {
   "cell_type": "code",
   "execution_count": 100,
   "metadata": {
    "collapsed": true
   },
   "outputs": [],
   "source": [
    "len_u = []\n",
    "len_i = []\n",
    "for k in IuVegas.keys():\n",
    "    len_i.append(len(IuVegas[k]))\n",
    "for k in UiVegas.keys():\n",
    "    len_u.append(len(UiVegas[k]))"
   ]
  },
  {
   "cell_type": "code",
   "execution_count": 47,
   "metadata": {
    "collapsed": true
   },
   "outputs": [],
   "source": [
    "len_u.sort()\n",
    "len_u = len_u[:int(len(len_u)*0.999)]"
   ]
  },
  {
   "cell_type": "code",
   "execution_count": 59,
   "metadata": {
    "collapsed": true
   },
   "outputs": [],
   "source": [
    "len_i.sort()\n",
    "len_i = len_i[:int(len(len_i)*0.999)]"
   ]
  },
  {
   "cell_type": "code",
   "execution_count": 60,
   "metadata": {
    "collapsed": false
   },
   "outputs": [
    {
     "data": {
      "image/png": "[encoded data removed]",
      "text/plain": [
       "<matplotlib.figure.Figure at 0x33b512b0>"
      ]
     },
     "metadata": {},
     "output_type": "display_data"
    }
   ],
   "source": [
    "import matplotlib.pyplot as plt\n",
    "\n",
    "plt.hist(len_i,bins=100)\n",
    "plt.show()"
   ]
  },
  {
   "cell_type": "code",
   "execution_count": 62,
   "metadata": {
    "collapsed": false
   },
   "outputs": [
    {
     "data": {
      "image/png": "[encoded data removed]",
      "text/plain": [
       "<matplotlib.figure.Figure at 0x34495b38>"
      ]
     },
     "metadata": {},
     "output_type": "display_data"
    }
   ],
   "source": [
    "import matplotlib.pyplot as plt\n",
    "\n",
    "plt.hist(len_u,bins=6000)\n",
    "plt.show()"
   ]
  },
  {
   "cell_type": "code",
   "execution_count": 137,
   "metadata": {
    "collapsed": true
   },
   "outputs": [],
   "source": [
    "Lambda = 0\n",
    "Alpha = 10**-4\n",
    "K = 1"
   ]
  },
  {
   "cell_type": "code",
   "execution_count": 127,
   "metadata": {
    "collapsed": true
   },
   "outputs": [],
   "source": [
    "Gamma_u = {}\n",
    "Gamma_r = {}"
   ]
  },
  {
   "cell_type": "code",
   "execution_count": 128,
   "metadata": {
    "collapsed": false
   },
   "outputs": [],
   "source": [
    "for user in VegasUser:\n",
    "    Gamma_u[user] = np.random.rand(K)\n",
    "for rest in VegasRest:\n",
    "    Gamma_r[rest] = np.random.rand(K)"
   ]
  },
  {
   "cell_type": "code",
   "execution_count": 129,
   "metadata": {
    "collapsed": true
   },
   "outputs": [],
   "source": [
    "def logit(t):\n",
    "    return np.exp(-t)/(1+np.exp(-t))"
   ]
  },
  {
   "cell_type": "code",
   "execution_count": 106,
   "metadata": {
    "collapsed": true
   },
   "outputs": [],
   "source": [
    "def sigmoid(t):\n",
    "    return 1-logit(t)"
   ]
  },
  {
   "cell_type": "code",
   "execution_count": 107,
   "metadata": {
    "collapsed": true
   },
   "outputs": [],
   "source": [
    "import math\n",
    "def vlen(t):\n",
    "    su = 0\n",
    "    for i in t:\n",
    "        su += i*i\n",
    "    return su"
   ]
  },
  {
   "cell_type": "code",
   "execution_count": 138,
   "metadata": {
    "collapsed": false
   },
   "outputs": [],
   "source": [
    "CUser = []\n",
    "Cirest = []\n",
    "Cjrest = []\n",
    "iterations = 10000\n",
    "l=[]"
   ]
  },
  {
   "cell_type": "code",
   "execution_count": 117,
   "metadata": {
    "collapsed": true
   },
   "outputs": [],
   "source": [
    "def generate_validation_set(VegasUser, VegasRest):\n",
    "    #to be used every 10k iterations\n",
    "    triple_arr = []\n",
    "    for i in range(1000):\n",
    "        user = np.random.choice(VegasUser)  #pick user\n",
    "        irest = np.random.choice(IuVegas[user])  #pick item i\n",
    "        jrest = np.random.choice(list(set(VegasRest) - set(IuVegas[user])))  #pick item j\n",
    "        triple_arr.append([user,irest,jrest])\n",
    "    return triple_arr"
   ]
  },
  {
   "cell_type": "code",
   "execution_count": 118,
   "metadata": {
    "collapsed": false
   },
   "outputs": [],
   "source": [
    "val_array = generate_validation_set(VegasUser,VegasRest)"
   ]
  },
  {
   "cell_type": "code",
   "execution_count": 119,
   "metadata": {
    "collapsed": false
   },
   "outputs": [
    {
     "data": {
      "text/plain": [
       "1000"
      ]
     },
     "execution_count": 119,
     "metadata": {},
     "output_type": "execute_result"
    }
   ],
   "source": [
    "len(val_array)"
   ]
  },
  {
   "cell_type": "code",
   "execution_count": 120,
   "metadata": {
    "collapsed": true
   },
   "outputs": [],
   "source": [
    "def val_loss():\n",
    "    su = 0\n",
    "    for i in range(len(val_array)):\n",
    "        user = val_array[i][0]\n",
    "        irest = val_array[i][1]\n",
    "        jrest = val_array[i][2]\n",
    "        xuij = np.dot(Gamma_u[user],Gamma_r[irest]-Gamma_r[jrest])\n",
    "        su += np.log(sigmoid(xuij))\n",
    "    return su"
   ]
  },
  {
   "cell_type": "code",
   "execution_count": 121,
   "metadata": {
    "collapsed": false
   },
   "outputs": [],
   "source": [
    "def loss(CUser,Cirest,Cjrest):\n",
    "    su = 0\n",
    "    for i in range(len(CUser)):\n",
    "        user = CUser[i]\n",
    "        irest = Cirest[i]\n",
    "        jrest = Cjrest[i]\n",
    "        xuij = np.dot(Gamma_u[user],Gamma_r[irest]-Gamma_r[jrest])\n",
    "        su += np.log(sigmoid(xuij))\n",
    "    for user in VegasUser:\n",
    "        su -= Lambda* vlen(Gamma_u[user]) * vlen(Gamma_u[user])\n",
    "    for rest in VegasRest:\n",
    "        su -= Lambda* vlen(Gamma_r[rest]) * vlen(Gamma_r[rest])\n",
    "    return su*1.0/len(CUser)"
   ]
  },
  {
   "cell_type": "code",
   "execution_count": 122,
   "metadata": {
    "collapsed": false,
    "scrolled": false
   },
   "outputs": [],
   "source": [
    "# for i in range(iterations):\n",
    "#     user = random.choice(Iu.keys())\n",
    "#     CUser.append(user)\n",
    "#     irest = random.choice(Iu[user])\n",
    "#     Cirest.append(irest)\n",
    "#     jrest = random.choice(list(AllRestSet - set(Iu[user])))\n",
    "#     Cjrest.append(jrest)\n",
    "# for i in range(iterations):\n",
    "#     user = CUser[i]\n",
    "#     irest = Cirest[i]\n",
    "#     jrest = Cjrest[i]\n",
    "#     xuij = np.dot(Gamma_u[user],Gamma_r[irest]-Gamma_r[jrest])\n",
    "#     Gamma_u[user] += Alpha*(logit(xuij)*(Gamma_r[irest]-Gamma_r[jrest]) + Lambda*Gamma_u[user])\n",
    "#     Gamma_r[irest]+= Alpha*(logit(xuij)*(Gamma_u[user]) + Lambda*Gamma_r[irest])\n",
    "#     Gamma_r[jrest]+= Alpha*(logit(xuij)*(-Gamma_u[user]) + Lambda*Gamma_r[jrest])\n",
    "#     l.append(loss(CUser,Cirest,Cjrest))"
   ]
  },
  {
   "cell_type": "code",
   "execution_count": 123,
   "metadata": {
    "collapsed": false,
    "scrolled": true
   },
   "outputs": [],
   "source": [
    "# plt.plot(range(iterations),l)\n",
    "# plt.show()"
   ]
  },
  {
   "cell_type": "code",
   "execution_count": 139,
   "metadata": {
    "collapsed": true
   },
   "outputs": [],
   "source": [
    "train_l = []\n",
    "val_l = []"
   ]
  },
  {
   "cell_type": "code",
   "execution_count": 140,
   "metadata": {
    "collapsed": false
   },
   "outputs": [
    {
     "name": "stdout",
     "output_type": "stream",
     "text": [
      "(0, -751.40080124273936, -0.73844258795438322)\n",
      "(1, -751.40062116932927, -0.73844253457227738)\n",
      "(2, -751.40055118281543, -0.73844230849952119)\n",
      "(3, -751.40041678412911, -0.73844207376871462)\n",
      "(4, -751.40021741599901, -0.73844165110091886)\n",
      "(5, -751.39988085435016, -0.73844150300570532)\n",
      "(6, -751.39960631996792, -0.73844134127425098)\n",
      "(7, -751.3993310036434, -0.73844101879395208)\n",
      "(8, -751.39910035768276, -0.73844088183936518)\n",
      "(9, -751.39876408372686, -0.73844052112951653)\n",
      "(10, -751.39825069137521, -0.73843995578375032)\n",
      "(11, -751.39805119982123, -0.73843982363464811)\n",
      "(12, -751.39794460248106, -0.73843973033191224)\n",
      "(13, -751.39747434774358, -0.73843944055604593)\n",
      "(14, -751.39750553430554, -0.73843904761702428)\n",
      "(15, -751.39752781518769, -0.73843887796740781)\n",
      "(16, -751.39746816258378, -0.73843877940252478)\n",
      "(17, -751.39730948591864, -0.73843843850932744)\n",
      "(18, -751.39722005544468, -0.73843829153619045)\n",
      "(19, -751.39700931036862, -0.7384381512112892)\n",
      "(20, -751.39687032248446, -0.73843782651583856)\n",
      "(21, -751.39694267914854, -0.73843778966827545)\n",
      "(22, -751.39690261409521, -0.73843768635652463)\n",
      "(23, -751.39676565071727, -0.73843746774988328)\n",
      "(24, -751.39646410699356, -0.7384372973987503)\n",
      "(25, -751.39646649358588, -0.73843721137876694)\n",
      "(26, -751.39636512716743, -0.73843712703458186)\n",
      "(27, -751.39646551773717, -0.73843706127359354)\n",
      "(28, -751.39631320872923, -0.73843692405977113)\n",
      "(29, -751.39584448529331, -0.73843665160194971)\n",
      "(30, -751.39583467663192, -0.73843644409929687)\n",
      "(31, -751.39574869217006, -0.73843628982136555)\n",
      "(32, -751.39559395484969, -0.73843623477310927)\n",
      "(33, -751.39557224770431, -0.73843613930409524)\n",
      "(34, -751.39553311742191, -0.73843598822856671)\n",
      "(35, -751.39529680727605, -0.73843562608358215)\n",
      "(36, -751.3950056295954, -0.73843528619181076)\n",
      "(37, -751.39480954455939, -0.73843505289630251)\n",
      "(38, -751.39462316762979, -0.73843482078643274)\n",
      "(39, -751.39459529214605, -0.73843472659814058)\n",
      "(40, -751.3943081825189, -0.73843426276034929)\n",
      "(41, -751.39431125830856, -0.73843414514031636)\n",
      "(42, -751.39397388067061, -0.73843397758549267)\n",
      "(43, -751.39396998790346, -0.73843373284208702)\n",
      "(44, -751.3936132759992, -0.73843326173160972)\n",
      "(45, -751.39352864803971, -0.73843307489492249)\n",
      "(46, -751.39338080053824, -0.73843290552063101)\n",
      "(47, -751.39308432959217, -0.73843264583082768)\n",
      "(48, -751.39286482049476, -0.73843241543880855)\n",
      "(49, -751.39261693937499, -0.73843226903004611)\n",
      "(50, -751.39275269729433, -0.73843219802329474)\n",
      "(51, -751.39252639609424, -0.73843198263247234)\n",
      "(52, -751.39226546727491, -0.73843159628066879)\n",
      "(53, -751.39165207727842, -0.73843121509179266)\n",
      "(54, -751.39124551127361, -0.73843075112904732)\n",
      "(55, -751.39101962666007, -0.73843044240531996)\n",
      "(56, -751.39080568589293, -0.73843021173905443)\n",
      "(57, -751.3905370098812, -0.73843004395953227)\n",
      "(58, -751.39050403702595, -0.73842995666300248)\n",
      "(59, -751.39039388386436, -0.73842981420229903)\n",
      "(60, -751.39018969672929, -0.73842962626216491)\n",
      "(61, -751.39016462777181, -0.73842950786833395)\n",
      "(62, -751.39008287801505, -0.73842940551782199)\n",
      "(63, -751.3899851668649, -0.73842917310833178)\n",
      "(64, -751.38972921542415, -0.73842892415321904)\n",
      "(65, -751.38958567745124, -0.73842853259106001)\n",
      "(66, -751.38942349636147, -0.73842843864783092)\n",
      "(67, -751.38915039569304, -0.73842810300970219)\n",
      "(68, -751.38896006518746, -0.73842791967907528)\n",
      "(69, -751.38890462048619, -0.73842772252698186)\n",
      "(70, -751.38868123619591, -0.73842743583603265)\n",
      "(71, -751.38868126563534, -0.7384273335740581)\n",
      "(72, -751.38857799253833, -0.73842715411468329)\n",
      "(73, -751.38846857176964, -0.73842687024408693)\n",
      "(74, -751.3883366915361, -0.73842672458586345)\n",
      "(75, -751.38827350214797, -0.73842668988743732)\n",
      "(76, -751.3880691154427, -0.73842641066540293)\n",
      "(77, -751.38725232984552, -0.73842603239823779)\n",
      "(78, -751.38683409143016, -0.73842582490232744)\n",
      "(79, -751.38661305200822, -0.73842563756441815)\n",
      "(80, -751.38663367482422, -0.73842547434126826)\n",
      "(81, -751.38663110397692, -0.73842538053733886)\n",
      "(82, -751.38642988091806, -0.73842524052306113)\n",
      "(83, -751.38626869553286, -0.73842488212005819)\n",
      "(84, -751.38616290198252, -0.73842469879726391)\n",
      "(85, -751.38598018493735, -0.73842454264122537)\n",
      "(86, -751.38562621442566, -0.73842405913968157)\n",
      "(87, -751.38557444382354, -0.7384239907032546)\n",
      "(88, -751.38548121542522, -0.73842387668459053)\n",
      "(89, -751.38530803330673, -0.73842371530118045)\n",
      "(90, -751.38531026251383, -0.73842358300662825)\n",
      "(91, -751.38523200827365, -0.73842346546763671)\n",
      "(92, -751.38544509821156, -0.73842339822919834)\n",
      "(93, -751.38544058330297, -0.73842275976876626)\n",
      "(94, -751.38540033793663, -0.73842267540681328)\n",
      "(95, -751.38523753792674, -0.73842245989181088)\n",
      "(96, -751.38518359501631, -0.73842226681941792)\n",
      "(97, -751.38492727119524, -0.73842192557874908)\n",
      "(98, -751.38489738662622, -0.73842178780395629)\n",
      "(99, -751.38491457203395, -0.73842164874787819)\n",
      "(100, -751.38495692512095, -0.73842149978170146)\n",
      "(101, -751.3836956405296, -0.73842090394540905)\n",
      "(102, -751.38358265522379, -0.73842077921664273)\n",
      "(103, -751.38356870752773, -0.73842059673829985)\n",
      "(104, -751.38339193321042, -0.73842029455156699)\n",
      "(105, -751.38333563154026, -0.73842013047781163)\n",
      "(106, -751.38316011155928, -0.73841983868092287)\n",
      "(107, -751.38303305115494, -0.73841958363531424)\n",
      "(108, -751.38289341383734, -0.73841944086427536)\n",
      "(109, -751.38285830841642, -0.73841935758555655)\n"
     ]
    },
    {
     "ename": "KeyboardInterrupt",
     "evalue": "",
     "output_type": "error",
     "traceback": [
      "\u001b[0;31m---------------------------------------------------------------------------\u001b[0m",
      "\u001b[0;31mKeyboardInterrupt\u001b[0m                         Traceback (most recent call last)",
      "\u001b[0;32m<ipython-input-140-489065d4815f>\u001b[0m in \u001b[0;36m<module>\u001b[0;34m()\u001b[0m\n\u001b[1;32m     15\u001b[0m     \u001b[0mz\u001b[0m \u001b[1;33m=\u001b[0m \u001b[0mAlpha\u001b[0m\u001b[1;33m*\u001b[0m\u001b[1;33m(\u001b[0m\u001b[0mlogit\u001b[0m\u001b[1;33m(\u001b[0m\u001b[0mxuij\u001b[0m\u001b[1;33m)\u001b[0m\u001b[1;33m*\u001b[0m\u001b[1;33m(\u001b[0m\u001b[1;33m-\u001b[0m\u001b[0mGamma_u\u001b[0m\u001b[1;33m[\u001b[0m\u001b[0muser\u001b[0m\u001b[1;33m]\u001b[0m\u001b[1;33m)\u001b[0m\u001b[1;33m)\u001b[0m\u001b[1;33m\u001b[0m\u001b[0m\n\u001b[1;32m     16\u001b[0m     \u001b[1;32mfor\u001b[0m \u001b[0muser\u001b[0m \u001b[1;32min\u001b[0m \u001b[0mVegasUser\u001b[0m\u001b[1;33m:\u001b[0m\u001b[1;33m\u001b[0m\u001b[0m\n\u001b[0;32m---> 17\u001b[0;31m         \u001b[0mGamma_u\u001b[0m\u001b[1;33m[\u001b[0m\u001b[0muser\u001b[0m\u001b[1;33m]\u001b[0m \u001b[1;33m+=\u001b[0m \u001b[0mAlpha\u001b[0m\u001b[1;33m*\u001b[0m\u001b[0mLambda\u001b[0m\u001b[1;33m*\u001b[0m\u001b[0mGamma_u\u001b[0m\u001b[1;33m[\u001b[0m\u001b[0muser\u001b[0m\u001b[1;33m]\u001b[0m\u001b[1;33m\u001b[0m\u001b[0m\n\u001b[0m\u001b[1;32m     18\u001b[0m     \u001b[1;32mfor\u001b[0m \u001b[0mrest\u001b[0m \u001b[1;32min\u001b[0m \u001b[0mVegasRest\u001b[0m\u001b[1;33m:\u001b[0m\u001b[1;33m\u001b[0m\u001b[0m\n\u001b[1;32m     19\u001b[0m         \u001b[0mGamma_r\u001b[0m\u001b[1;33m[\u001b[0m\u001b[0mrest\u001b[0m\u001b[1;33m]\u001b[0m \u001b[1;33m+=\u001b[0m \u001b[0mAlpha\u001b[0m\u001b[1;33m*\u001b[0m\u001b[0mLambda\u001b[0m\u001b[1;33m*\u001b[0m\u001b[0mGamma_r\u001b[0m\u001b[1;33m[\u001b[0m\u001b[0mrest\u001b[0m\u001b[1;33m]\u001b[0m\u001b[1;33m\u001b[0m\u001b[0m\n",
      "\u001b[0;31mKeyboardInterrupt\u001b[0m: "
     ]
    }
   ],
   "source": [
    "for i in range(iterations):\n",
    "    user = random.choice(VegasUser)\n",
    "    CUser.append(user)\n",
    "    irest = random.choice(IuVegas[user])\n",
    "    Cirest.append(irest)\n",
    "    jrest = random.choice(list(set(VegasRest) - set(IuVegas[user])))\n",
    "    Cjrest.append(jrest)\n",
    "for i in range(iterations):\n",
    "    user = CUser[i]\n",
    "    irest = Cirest[i]\n",
    "    jrest = Cjrest[i]\n",
    "    xuij = np.dot(Gamma_u[user],Gamma_r[irest]-Gamma_r[jrest])\n",
    "    x= Alpha*(logit(xuij)*(Gamma_r[irest]-Gamma_r[jrest]))\n",
    "    y = Alpha*(logit(xuij)*(Gamma_u[user]))\n",
    "    z = Alpha*(logit(xuij)*(-Gamma_u[user]))\n",
    "    for user in VegasUser:\n",
    "        Gamma_u[user] += Alpha*Lambda*Gamma_u[user]\n",
    "    for rest in VegasRest:\n",
    "        Gamma_r[rest] += Alpha*Lambda*Gamma_r[rest]\n",
    "    Gamma_u[user] += x\n",
    "    Gamma_r[irest] += y\n",
    "    Gamma_r[jrest] += z\n",
    "    if i%100== 0:\n",
    "        train_l.append(loss(CUser,Cirest,Cjrest))\n",
    "        val_l.append(val_loss())\n",
    "        print(i/100,val_l[-1],train_l[-1])"
   ]
  },
  {
   "cell_type": "code",
   "execution_count": 93,
   "metadata": {
    "collapsed": false,
    "scrolled": true
   },
   "outputs": [
    {
     "data": {
      "text/plain": [
       "99"
      ]
     },
     "execution_count": 93,
     "metadata": {},
     "output_type": "execute_result"
    }
   ],
   "source": [
    "i"
   ]
  },
  {
   "cell_type": "code",
   "execution_count": 94,
   "metadata": {
    "collapsed": false,
    "scrolled": true
   },
   "outputs": [
    {
     "data": {
      "image/png": "[encoded data removed]",
      "text/plain": [
       "<matplotlib.figure.Figure at 0x438d9048>"
      ]
     },
     "metadata": {},
     "output_type": "display_data"
    }
   ],
   "source": [
    "plt.plot(range(100),val_l)\n",
    "plt.show()"
   ]
  },
  {
   "cell_type": "code",
   "execution_count": 95,
   "metadata": {
    "collapsed": false
   },
   "outputs": [
    {
     "data": {
      "image/png": "[encoded data removed]",
      "text/plain": [
       "<matplotlib.figure.Figure at 0x43448e80>"
      ]
     },
     "metadata": {},
     "output_type": "display_data"
    }
   ],
   "source": [
    "plt.plot(range(100),train_l)\n",
    "plt.show()"
   ]
  }
 ],
 "metadata": {
  "anaconda-cloud": {},
  "kernelspec": {
   "display_name": "Python 2",
   "language": "python",
   "name": "python2"
  },
  "language_info": {
   "codemirror_mode": {
    "name": "ipython",
    "version": 2
   },
   "file_extension": ".py",
   "mimetype": "text/x-python",
   "name": "python",
   "nbconvert_exporter": "python",
   "pygments_lexer": "ipython2",
   "version": "2.7.13"
  }
 },
 "nbformat": 4,
 "nbformat_minor": 2
}
