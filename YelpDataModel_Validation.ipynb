{
 "cells": [
  {
   "cell_type": "markdown",
   "metadata": {},
   "source": [
    "### Bayesian Prediction Model"
   ]
  },
  {
   "cell_type": "code",
   "execution_count": 313,
   "metadata": {
    "collapsed": true
   },
   "outputs": [],
   "source": [
    "import numpy as np\n",
    "import scipy\n",
    "import random\n",
    "import urllib\n",
    "import matplotlib.pyplot as plt\n",
    "import json"
   ]
  },
  {
   "cell_type": "code",
   "execution_count": 314,
   "metadata": {
    "collapsed": false
   },
   "outputs": [],
   "source": [
    "random.seed(0) #set an initial seed so that we can reproduce consistently"
   ]
  },
  {
   "cell_type": "code",
   "execution_count": 315,
   "metadata": {
    "collapsed": false
   },
   "outputs": [],
   "source": [
    "def readJSONfromFile(fname):\n",
    "    yelp_data = []\n",
    "    with open(fname) as f:\n",
    "        for line in f:\n",
    "            yelp_data.append(json.loads(line))\n",
    "    return yelp_data"
   ]
  },
  {
   "cell_type": "code",
   "execution_count": 354,
   "metadata": {
    "collapsed": false,
    "scrolled": true
   },
   "outputs": [],
   "source": [
    "Iu = readJSONfromFile('data/yelp_Iu.json')"
   ]
  },
  {
   "cell_type": "code",
   "execution_count": 355,
   "metadata": {
    "collapsed": true
   },
   "outputs": [],
   "source": [
    "Iu = Iu[0]"
   ]
  },
  {
   "cell_type": "code",
   "execution_count": 356,
   "metadata": {
    "collapsed": false,
    "scrolled": true
   },
   "outputs": [
    {
     "data": {
      "text/plain": [
       "721779"
      ]
     },
     "execution_count": 356,
     "metadata": {},
     "output_type": "execute_result"
    }
   ],
   "source": [
    "len(Iu)"
   ]
  },
  {
   "cell_type": "code",
   "execution_count": 357,
   "metadata": {
    "collapsed": false
   },
   "outputs": [],
   "source": [
    "#Iu['PmgqNO0-5Y3e3UoR61TD7w']"
   ]
  },
  {
   "cell_type": "code",
   "execution_count": 358,
   "metadata": {
    "collapsed": true
   },
   "outputs": [],
   "source": [
    "#some data preprocessing on threshold for each Iu\n",
    "user_count_dict =dict()\n",
    "for user in Iu:\n",
    "    if len(Iu[user]) not in user_count_dict:\n",
    "        user_count_dict[len(Iu[user])] = 1\n",
    "    else:\n",
    "        user_count_dict[len(Iu[user])]+=1"
   ]
  },
  {
   "cell_type": "code",
   "execution_count": 359,
   "metadata": {
    "collapsed": false
   },
   "outputs": [],
   "source": [
    "Iu_filtered = dict()\n",
    "for user in Iu:\n",
    "    if len(Iu[user])>=10:\n",
    "        Iu_filtered[user] = Iu[user]"
   ]
  },
  {
   "cell_type": "code",
   "execution_count": 360,
   "metadata": {
    "collapsed": false
   },
   "outputs": [
    {
     "data": {
      "text/plain": [
       "45472"
      ]
     },
     "execution_count": 360,
     "metadata": {},
     "output_type": "execute_result"
    }
   ],
   "source": [
    "len(Iu_filtered)"
   ]
  },
  {
   "cell_type": "code",
   "execution_count": 361,
   "metadata": {
    "collapsed": false
   },
   "outputs": [],
   "source": [
    "I = readJSONfromFile('data/yelp_restaurant_data.json')"
   ]
  },
  {
   "cell_type": "code",
   "execution_count": 362,
   "metadata": {
    "collapsed": true
   },
   "outputs": [],
   "source": [
    "I = I[0]"
   ]
  },
  {
   "cell_type": "code",
   "execution_count": 363,
   "metadata": {
    "collapsed": false
   },
   "outputs": [],
   "source": [
    "AllRest = []\n",
    "for i in I:\n",
    "    AllRest.append(i['business_id'])"
   ]
  },
  {
   "cell_type": "code",
   "execution_count": 364,
   "metadata": {
    "collapsed": true
   },
   "outputs": [],
   "source": [
    "AllUser = Iu_filtered.keys()\n",
    "Iu = Iu_filtered"
   ]
  },
  {
   "cell_type": "code",
   "execution_count": 365,
   "metadata": {
    "collapsed": false
   },
   "outputs": [
    {
     "data": {
      "text/plain": [
       "45472"
      ]
     },
     "execution_count": 365,
     "metadata": {},
     "output_type": "execute_result"
    }
   ],
   "source": [
    "len(AllUser)   #U set"
   ]
  },
  {
   "cell_type": "code",
   "execution_count": 366,
   "metadata": {
    "collapsed": false
   },
   "outputs": [
    {
     "data": {
      "text/plain": [
       "48485"
      ]
     },
     "execution_count": 366,
     "metadata": {},
     "output_type": "execute_result"
    }
   ],
   "source": [
    "len(AllRest)   # I set"
   ]
  },
  {
   "cell_type": "code",
   "execution_count": 367,
   "metadata": {
    "collapsed": false
   },
   "outputs": [],
   "source": [
    "AllRestSet = set(AllRest)   #has the set of all restaurant ids"
   ]
  },
  {
   "cell_type": "code",
   "execution_count": 378,
   "metadata": {
    "collapsed": true
   },
   "outputs": [],
   "source": [
    "Lambda = 1\n",
    "Alpha = 1e-5\n",
    "K = 10"
   ]
  },
  {
   "cell_type": "code",
   "execution_count": 28,
   "metadata": {
    "collapsed": true
   },
   "outputs": [],
   "source": [
    "Gamma_u = dict()\n",
    "Gamma_r = dict()   #Latent factor variables\n",
    "for user in AllUser:\n",
    "    Gamma_u[user] = np.random.rand(K)\n",
    "for rest in AllRest:\n",
    "    Gamma_r[rest] = np.random.rand(K)"
   ]
  },
  {
   "cell_type": "code",
   "execution_count": 20,
   "metadata": {
    "collapsed": true
   },
   "outputs": [],
   "source": [
    "import math\n",
    "def vlen(t):\n",
    "    su = 0\n",
    "    for i in t:\n",
    "        su += i*i\n",
    "    return su"
   ]
  },
  {
   "cell_type": "code",
   "execution_count": 369,
   "metadata": {
    "collapsed": true
   },
   "outputs": [],
   "source": [
    "def logit(t):\n",
    "    return np.exp(-t)/(1+np.exp(-t))"
   ]
  },
  {
   "cell_type": "code",
   "execution_count": 370,
   "metadata": {
    "collapsed": true
   },
   "outputs": [],
   "source": [
    "def sigmoid(t):\n",
    "    return 1-logit(t)"
   ]
  },
  {
   "cell_type": "code",
   "execution_count": 371,
   "metadata": {
    "collapsed": true
   },
   "outputs": [],
   "source": [
    "def generate_validation_set(Iu, AllRestSet):\n",
    "    #to be used every 10k iterations\n",
    "    triple_arr = []\n",
    "    for i in range(1000):\n",
    "        user = np.random.choice(Iu.keys())  #pick user\n",
    "        irest = np.random.choice(Iu[user])  #pick item i\n",
    "        jrest = np.random.choice(list(AllRestSet - set(Iu[user])))  #pick item j\n",
    "        triple_arr.append([user,irest,jrest])\n",
    "    return triple_arr\n",
    "    "
   ]
  },
  {
   "cell_type": "code",
   "execution_count": 345,
   "metadata": {
    "collapsed": true
   },
   "outputs": [],
   "source": [
    "def loss_objective(user, rest_i, rest_j, Lambda):\n",
    "    su=0\n",
    "    xuij = np.dot(Gamma_u[user],Gamma_r[irest]-Gamma_r[jrest])\n",
    "    su += np.log(sigmoid(xuij))\n",
    "    su -= Lambda* np.square(np.linalg.norm(Gamma_u[user]))\n",
    "    su -= Lambda * np.square(np.linalg.norm(Gamma_r[rest_i]))\n",
    "    su -= Lambda * np.square(np.linalg.norm(Gamma_r[rest_j]))\n",
    "    return su"
   ]
  },
  {
   "cell_type": "code",
   "execution_count": 372,
   "metadata": {
    "collapsed": false
   },
   "outputs": [],
   "source": [
    "val_arr = generate_validation_set(Iu, AllRestSet)"
   ]
  },
  {
   "cell_type": "code",
   "execution_count": 376,
   "metadata": {
    "collapsed": true
   },
   "outputs": [],
   "source": [
    "def val_loss(val_arr, Gamma_u,Gamma_r):\n",
    "    su=0\n",
    "    for i in range(len(val_arr)):\n",
    "        user = val_arr[i][0]\n",
    "        irest = val_arr[i][1]\n",
    "        jrest = val_arr[i][2]\n",
    "        xuij = np.dot(Gamma_u[user],Gamma_r[irest]-Gamma_r[jrest])\n",
    "        su += np.log(sigmoid(xuij))\n",
    "    su/= len(val_arr)  \n",
    "    for user in Gamma_u:\n",
    "        su -= Lambda* np.square(np.linalg.norm(Gamma_u[user]))\n",
    "    for rest in Gamma_r:\n",
    "        su -= Lambda * np.square(np.linalg.norm(Gamma_r[rest]))\n",
    "    #for jrest in \n",
    "    #   su -= Lambda * np.linalg.norm(Gamma_r[jrest])\n",
    "    return su"
   ]
  },
  {
   "cell_type": "code",
   "execution_count": 374,
   "metadata": {
    "collapsed": true
   },
   "outputs": [],
   "source": [
    "def SGD(Lambda, K):\n",
    "    Gamma_u = dict()\n",
    "    Gamma_r = dict()\n",
    "    for user in AllUser:\n",
    "        Gamma_u[user] = np.random.rand(K)\n",
    "    for rest in AllRest:\n",
    "        Gamma_r[rest] = np.random.rand(K)\n",
    "    \n",
    "    #train_loss_arr = []\n",
    "    val_loss_arr = []\n",
    "    max_iterations = 5000\n",
    "    batch_size = 1\n",
    "    \n",
    "    for i in range(max_iterations):\n",
    "        #if i%100 ==0:\n",
    "        #    print i\n",
    "        delta_u_temp =0\n",
    "        delta_i_temp = 0\n",
    "        delta_j_temp = 0\n",
    "        #for j in range(batch_size):\n",
    "        user = np.random.choice(Iu.keys())  #pick user\n",
    "        irest = np.random.choice(Iu[user])  #pick item i\n",
    "        jrest = np.random.choice(list(AllRestSet - set(Iu[user])))    #pick item j\n",
    "\n",
    "            #print(len(Gamma_u[user]))\n",
    "        xuij = np.dot(Gamma_u[user],Gamma_r[irest]-Gamma_r[jrest])\n",
    "        delta_u_temp += Alpha*(logit(xuij)*(Gamma_r[irest]-Gamma_r[jrest]))\n",
    "        delta_i_temp += Alpha*(logit(xuij)*(Gamma_u[user]))\n",
    "        delta_j_temp += Alpha*(logit(xuij)*(-Gamma_u[user]))\n",
    "        Gamma_u[user] += delta_u_temp\n",
    "        Gamma_r[irest] += delta_i_temp\n",
    "        Gamma_r[jrest] += delta_j_temp \n",
    "        \n",
    "        for user in Gamma_u:\n",
    "            Gamma_u[user] += Alpha * Lambda* Gamma_u[user]\n",
    "        for rest in Gamma_r:\n",
    "            Gamma_r[rest] += Alpha* Lambda* Gamma_r[rest]\n",
    "        \n",
    "        #train_loss_arr.append(loss_objective(user, irest, jrest,Lambda))\n",
    "        if i%100 ==0 :\n",
    "            val_loss_arr.append(val_loss(val_arr, Gamma_u, Gamma_r))\n",
    "            print val_loss_arr[-1]\n",
    "    return Gamma_u, Gamma_r, val_loss_arr"
   ]
  },
  {
   "cell_type": "code",
   "execution_count": null,
   "metadata": {
    "collapsed": false
   },
   "outputs": [
    {
     "name": "stdout",
     "output_type": "stream",
     "text": [
      "-3132236.42417\n"
     ]
    }
   ],
   "source": [
    "gu,gi, arr = SGD(1,100)"
   ]
  },
  {
   "cell_type": "code",
   "execution_count": 253,
   "metadata": {
    "collapsed": false
   },
   "outputs": [
    {
     "data": {
      "image/png": "[encoded data removed]",
      "text/plain": [
       "<matplotlib.figure.Figure at 0x11d822cd0>"
      ]
     },
     "metadata": {},
     "output_type": "display_data"
    }
   ],
   "source": [
    "plt.plot(np.arange(len(arr)), arr)\n",
    "plt.show()\n"
   ]
  }
 ],
 "metadata": {
  "kernelspec": {
   "display_name": "Python 2",
   "language": "python",
   "name": "python2"
  },
  "language_info": {
   "codemirror_mode": {
    "name": "ipython",
    "version": 2
   },
   "file_extension": ".py",
   "mimetype": "text/x-python",
   "name": "python",
   "nbconvert_exporter": "python",
   "pygments_lexer": "ipython2",
   "version": "2.7.13"
  }
 },
 "nbformat": 4,
 "nbformat_minor": 2
}
