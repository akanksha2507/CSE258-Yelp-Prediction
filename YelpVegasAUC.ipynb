{
 "cells": [
  {
   "cell_type": "code",
   "execution_count": null,
   "metadata": {
    "collapsed": true
   },
   "outputs": [],
   "source": [
    "import numpy as np\n",
    "import scipy\n",
    "import random\n",
    "import urllib\n",
    "import matplotlib.pyplot as plt\n",
    "import json"
   ]
  },
  {
   "cell_type": "code",
   "execution_count": null,
   "metadata": {
    "collapsed": true
   },
   "outputs": [],
   "source": [
    "random.seed(0) #set an initial seed so that we can reproduce consistently"
   ]
  },
  {
   "cell_type": "code",
   "execution_count": null,
   "metadata": {
    "collapsed": false
   },
   "outputs": [],
   "source": [
    "def readJSONfromFile(fname):\n",
    "    yelp_data = []\n",
    "    with open(fname) as f:\n",
    "        for line in f:\n",
    "            yelp_data.append(json.loads(line))\n",
    "    return yelp_data"
   ]
  },
  {
   "cell_type": "code",
   "execution_count": null,
   "metadata": {
    "collapsed": false,
    "scrolled": true
   },
   "outputs": [],
   "source": [
    "IuVegas = readJSONfromFile('yelp_user_IuVegas.json')\n",
    "UiVegas = readJSONfromFile('yelp_user_UiVegas.json')"
   ]
  },
  {
   "cell_type": "code",
   "execution_count": null,
   "metadata": {
    "collapsed": false
   },
   "outputs": [],
   "source": [
    "IuVegas = IuVegas[0]\n",
    "UiVegas = UiVegas[0]"
   ]
  },
  {
   "cell_type": "code",
   "execution_count": null,
   "metadata": {
    "collapsed": true
   },
   "outputs": [],
   "source": []
  },
  {
   "cell_type": "code",
   "execution_count": null,
   "metadata": {
    "collapsed": true
   },
   "outputs": [],
   "source": [
    "I = readJSONfromFile('yelp_restaurant_data.json')"
   ]
  },
  {
   "cell_type": "code",
   "execution_count": null,
   "metadata": {
    "collapsed": true
   },
   "outputs": [],
   "source": [
    "I = I[0]"
   ]
  },
  {
   "cell_type": "code",
   "execution_count": null,
   "metadata": {
    "collapsed": false
   },
   "outputs": [],
   "source": [
    "#I[:10]"
   ]
  },
  {
   "cell_type": "code",
   "execution_count": null,
   "metadata": {
    "collapsed": true
   },
   "outputs": [],
   "source": [
    "VegasUser = []\n",
    "for user in IuVegas.keys():\n",
    "    if len(IuVegas[user]) >= 10:\n",
    "        VegasUser.append(user)"
   ]
  },
  {
   "cell_type": "code",
   "execution_count": null,
   "metadata": {
    "collapsed": false
   },
   "outputs": [],
   "source": [
    "len(IuVegas[VegasUser[0]])\n"
   ]
  },
  {
   "cell_type": "code",
   "execution_count": null,
   "metadata": {
    "collapsed": false
   },
   "outputs": [],
   "source": [
    "len(IuVegas)"
   ]
  },
  {
   "cell_type": "code",
   "execution_count": null,
   "metadata": {
    "collapsed": true
   },
   "outputs": [],
   "source": [
    "S_ui_test = {}"
   ]
  },
  {
   "cell_type": "code",
   "execution_count": null,
   "metadata": {
    "collapsed": false
   },
   "outputs": [],
   "source": [
    "for user in VegasUser:\n",
    "    temp = random.choice(IuVegas[user])\n",
    "    IuVegas[user].remove(temp)\n",
    "    S_ui_test[user] = temp"
   ]
  },
  {
   "cell_type": "code",
   "execution_count": null,
   "metadata": {
    "collapsed": false
   },
   "outputs": [],
   "source": [
    "len(IuVegas[VegasUser[0]])"
   ]
  },
  {
   "cell_type": "code",
   "execution_count": null,
   "metadata": {
    "collapsed": false
   },
   "outputs": [],
   "source": [
    "len(S_ui_test)"
   ]
  },
  {
   "cell_type": "code",
   "execution_count": null,
   "metadata": {
    "collapsed": false
   },
   "outputs": [],
   "source": [
    "len(VegasUser)"
   ]
  },
  {
   "cell_type": "code",
   "execution_count": null,
   "metadata": {
    "collapsed": true
   },
   "outputs": [],
   "source": [
    "VegasRest = UiVegas.keys()"
   ]
  },
  {
   "cell_type": "code",
   "execution_count": null,
   "metadata": {
    "collapsed": false
   },
   "outputs": [],
   "source": [
    "len(VegasUser)"
   ]
  },
  {
   "cell_type": "code",
   "execution_count": null,
   "metadata": {
    "collapsed": true
   },
   "outputs": [],
   "source": [
    "len_u = []\n",
    "len_i = []\n",
    "for k in IuVegas.keys():\n",
    "    len_i.append(len(IuVegas[k]))\n",
    "for k in UiVegas.keys():\n",
    "    len_u.append(len(UiVegas[k]))"
   ]
  },
  {
   "cell_type": "code",
   "execution_count": null,
   "metadata": {
    "collapsed": true
   },
   "outputs": [],
   "source": [
    "len_u.sort()\n",
    "len_u = len_u[:int(len(len_u)*0.999)]"
   ]
  },
  {
   "cell_type": "code",
   "execution_count": null,
   "metadata": {
    "collapsed": true
   },
   "outputs": [],
   "source": [
    "len_i.sort()\n",
    "len_i = len_i[:int(len(len_i)*0.999)]"
   ]
  },
  {
   "cell_type": "code",
   "execution_count": null,
   "metadata": {
    "collapsed": false
   },
   "outputs": [],
   "source": [
    "import matplotlib.pyplot as plt\n",
    "\n",
    "plt.hist(len_i,bins=100)\n",
    "plt.show()"
   ]
  },
  {
   "cell_type": "code",
   "execution_count": null,
   "metadata": {
    "collapsed": false
   },
   "outputs": [],
   "source": [
    "import matplotlib.pyplot as plt\n",
    "\n",
    "plt.hist(len_u,bins=6000)\n",
    "plt.show()"
   ]
  },
  {
   "cell_type": "code",
   "execution_count": null,
   "metadata": {
    "collapsed": true
   },
   "outputs": [],
   "source": [
    "Lambda = 0\n",
    "Alpha = 10**-4\n",
    "K = 1"
   ]
  },
  {
   "cell_type": "code",
   "execution_count": null,
   "metadata": {
    "collapsed": true
   },
   "outputs": [],
   "source": [
    "Gamma_u = {}\n",
    "Gamma_r = {}"
   ]
  },
  {
   "cell_type": "code",
   "execution_count": null,
   "metadata": {
    "collapsed": false
   },
   "outputs": [],
   "source": [
    "for user in VegasUser:\n",
    "    Gamma_u[user] = np.random.rand(K)\n",
    "for rest in VegasRest:\n",
    "    Gamma_r[rest] = np.random.rand(K)"
   ]
  },
  {
   "cell_type": "code",
   "execution_count": null,
   "metadata": {
    "collapsed": true
   },
   "outputs": [],
   "source": [
    "def logit(t):\n",
    "    return np.exp(-t)/(1+np.exp(-t))"
   ]
  },
  {
   "cell_type": "code",
   "execution_count": null,
   "metadata": {
    "collapsed": true
   },
   "outputs": [],
   "source": [
    "def sigmoid(t):\n",
    "    return 1-logit(t)"
   ]
  },
  {
   "cell_type": "code",
   "execution_count": null,
   "metadata": {
    "collapsed": true
   },
   "outputs": [],
   "source": [
    "import math\n",
    "def vlen(t):\n",
    "    su = 0\n",
    "    for i in t:\n",
    "        su += i*i\n",
    "    return su"
   ]
  },
  {
   "cell_type": "code",
   "execution_count": null,
   "metadata": {
    "collapsed": false
   },
   "outputs": [],
   "source": [
    "CUser = []\n",
    "Cirest = []\n",
    "Cjrest = []\n",
    "iterations = 1000000\n",
    "l=[]"
   ]
  },
  {
   "cell_type": "code",
   "execution_count": null,
   "metadata": {
    "collapsed": true
   },
   "outputs": [],
   "source": [
    "def generate_validation_set(VegasUser, VegasRest):\n",
    "    #to be used every 10k iterations\n",
    "    triple_arr = []\n",
    "    for i in range(1000):\n",
    "        user = np.random.choice(VegasUser)  #pick user\n",
    "        irest = np.random.choice(IuVegas[user])  #pick item i\n",
    "        jrest = np.random.choice(list(set(VegasRest) - set(IuVegas[user])))  #pick item j\n",
    "        triple_arr.append([user,irest,jrest])\n",
    "    return triple_arr"
   ]
  },
  {
   "cell_type": "code",
   "execution_count": null,
   "metadata": {
    "collapsed": false
   },
   "outputs": [],
   "source": [
    "val_array = generate_validation_set(VegasUser,VegasRest)"
   ]
  },
  {
   "cell_type": "code",
   "execution_count": null,
   "metadata": {
    "collapsed": false
   },
   "outputs": [],
   "source": [
    "len(val_array)"
   ]
  },
  {
   "cell_type": "code",
   "execution_count": null,
   "metadata": {
    "collapsed": true
   },
   "outputs": [],
   "source": [
    "def val_loss():\n",
    "    su = 0\n",
    "    for i in range(len(val_array)):\n",
    "        user = val_array[i][0]\n",
    "        irest = val_array[i][1]\n",
    "        jrest = val_array[i][2]\n",
    "        xuij = np.dot(Gamma_u[user],Gamma_r[irest]-Gamma_r[jrest])\n",
    "        su += np.log(sigmoid(xuij))\n",
    "    return su"
   ]
  },
  {
   "cell_type": "code",
   "execution_count": null,
   "metadata": {
    "collapsed": false
   },
   "outputs": [],
   "source": [
    "def loss(CUser,Cirest,Cjrest):\n",
    "    su = 0\n",
    "    for i in range(len(CUser)):\n",
    "        user = CUser[i]\n",
    "        irest = Cirest[i]\n",
    "        jrest = Cjrest[i]\n",
    "        xuij = np.dot(Gamma_u[user],Gamma_r[irest]-Gamma_r[jrest])\n",
    "        su += np.log(sigmoid(xuij))\n",
    "    for user in VegasUser:\n",
    "        su -= Lambda* vlen(Gamma_u[user]) * vlen(Gamma_u[user])\n",
    "    for rest in VegasRest:\n",
    "        su -= Lambda* vlen(Gamma_r[rest]) * vlen(Gamma_r[rest])\n",
    "    return su"
   ]
  },
  {
   "cell_type": "code",
   "execution_count": null,
   "metadata": {
    "collapsed": false,
    "scrolled": false
   },
   "outputs": [],
   "source": [
    "# for i in range(iterations):\n",
    "#     user = random.choice(Iu.keys())\n",
    "#     CUser.append(user)\n",
    "#     irest = random.choice(Iu[user])\n",
    "#     Cirest.append(irest)\n",
    "#     jrest = random.choice(list(AllRestSet - set(Iu[user])))\n",
    "#     Cjrest.append(jrest)\n",
    "# for i in range(iterations):\n",
    "#     user = CUser[i]\n",
    "#     irest = Cirest[i]\n",
    "#     jrest = Cjrest[i]\n",
    "#     xuij = np.dot(Gamma_u[user],Gamma_r[irest]-Gamma_r[jrest])\n",
    "#     Gamma_u[user] += Alpha*(logit(xuij)*(Gamma_r[irest]-Gamma_r[jrest]) + Lambda*Gamma_u[user])\n",
    "#     Gamma_r[irest]+= Alpha*(logit(xuij)*(Gamma_u[user]) + Lambda*Gamma_r[irest])\n",
    "#     Gamma_r[jrest]+= Alpha*(logit(xuij)*(-Gamma_u[user]) + Lambda*Gamma_r[jrest])\n",
    "#     l.append(loss(CUser,Cirest,Cjrest))"
   ]
  },
  {
   "cell_type": "code",
   "execution_count": null,
   "metadata": {
    "collapsed": false,
    "scrolled": true
   },
   "outputs": [],
   "source": [
    "# plt.plot(range(iterations),l)\n",
    "# plt.show()"
   ]
  },
  {
   "cell_type": "code",
   "execution_count": null,
   "metadata": {
    "collapsed": true
   },
   "outputs": [],
   "source": [
    "train_l = []\n",
    "val_l = []"
   ]
  },
  {
   "cell_type": "code",
   "execution_count": null,
   "metadata": {
    "collapsed": true
   },
   "outputs": [],
   "source": [
    "S_uj_train = {}"
   ]
  },
  {
   "cell_type": "markdown",
   "metadata": {
    "collapsed": false
   },
   "source": [
    "for i in range(iterations):\n",
    "    user = random.choice(VegasUser)\n",
    "    CUser.append(user)\n",
    "    irest = random.choice(IuVegas[user])\n",
    "    Cirest.append(irest)\n",
    "    jrest = random.choice(list(set(VegasRest) - set(IuVegas[user])))\n",
    "    Cjrest.append(jrest)\n",
    "for i in range(iterations):\n",
    "    user = CUser[i]\n",
    "    irest = Cirest[i]\n",
    "    jrest = Cjrest[i]\n",
    "    xuij = np.dot(Gamma_u[user],Gamma_r[irest]-Gamma_r[jrest])\n",
    "    x= Alpha*(logit(xuij)*(Gamma_r[irest]-Gamma_r[jrest]))\n",
    "    y = Alpha*(logit(xuij)*(Gamma_u[user]))\n",
    "    z = Alpha*(logit(xuij)*(-Gamma_u[user]))\n",
    "    for user in VegasUser:\n",
    "        Gamma_u[user] += Alpha*Lambda*Gamma_u[user]\n",
    "    for rest in VegasRest:\n",
    "        Gamma_r[rest] += Alpha*Lambda*Gamma_r[rest]\n",
    "    Gamma_u[user] += x\n",
    "    Gamma_r[irest] += y\n",
    "    Gamma_r[jrest] += z\n",
    "    if i%100== 0:\n",
    "        train_l.append(loss(CUser,Cirest,Cjrest))\n",
    "        val_l.append(val_loss())\n",
    "        print(i/100,val_l[-1],train_l[-1])"
   ]
  },
  {
   "cell_type": "code",
   "execution_count": null,
   "metadata": {
    "collapsed": true
   },
   "outputs": [],
   "source": [
    "iterations = 5000000"
   ]
  },
  {
   "cell_type": "code",
   "execution_count": null,
   "metadata": {
    "collapsed": false
   },
   "outputs": [],
   "source": [
    "for i in range(iterations):\n",
    "    user = random.choice(VegasUser)\n",
    "    CUser.append(user)\n",
    "    irest = random.choice(IuVegas[user])\n",
    "    Cirest.append(irest)\n",
    "    jrest = random.choice(list(set(VegasRest) - set(IuVegas[user])))\n",
    "    Cjrest.append(jrest)\n",
    "    \n",
    "    if not S_uj_train.has_key(user):\n",
    "        S_uj_train[user] = [jrest]\n",
    "    if jrest not in S_uj_train[user]:\n",
    "        S_uj_train[user].append(jrest)\n",
    "    if irest not in S_uj_train[user]:\n",
    "        S_uj_train[user].append(irest)\n",
    "    \n",
    "    if i%10000==0:\n",
    "        print i"
   ]
  },
  {
   "cell_type": "code",
   "execution_count": null,
   "metadata": {
    "collapsed": true
   },
   "outputs": [],
   "source": [
    "with open('CUser.txt', 'w') as outfile:\n",
    "    json.dump(CUser, outfile)"
   ]
  },
  {
   "cell_type": "code",
   "execution_count": null,
   "metadata": {
    "collapsed": true
   },
   "outputs": [],
   "source": [
    "with open('Cirest.txt', 'w') as outfile:\n",
    "    json.dump(Cirest, outfile)"
   ]
  },
  {
   "cell_type": "code",
   "execution_count": null,
   "metadata": {
    "collapsed": true
   },
   "outputs": [],
   "source": [
    "with open('Cjrest.txt', 'w') as outfile:\n",
    "    json.dump(Cjrest, outfile)"
   ]
  },
  {
   "cell_type": "code",
   "execution_count": null,
   "metadata": {
    "collapsed": true
   },
   "outputs": [],
   "source": [
    "with open('CUser.txt', 'r') as outfile:\n",
    "    CUser = json.load(outfile)"
   ]
  },
  {
   "cell_type": "code",
   "execution_count": null,
   "metadata": {
    "collapsed": true
   },
   "outputs": [],
   "source": [
    "with open('Cirest.txt', 'r') as outfile:\n",
    "    Cirest = json.load(outfile)"
   ]
  },
  {
   "cell_type": "code",
   "execution_count": null,
   "metadata": {
    "collapsed": true
   },
   "outputs": [],
   "source": [
    "with open('Cjrest.txt', 'r') as outfile:\n",
    "    Cjrest = json.load(outfile)"
   ]
  },
  {
   "cell_type": "code",
   "execution_count": null,
   "metadata": {
    "collapsed": false
   },
   "outputs": [],
   "source": [
    "len(Cjrest)"
   ]
  },
  {
   "cell_type": "code",
   "execution_count": null,
   "metadata": {
    "collapsed": true
   },
   "outputs": [],
   "source": [
    "iterations = 10**8"
   ]
  },
  {
   "cell_type": "code",
   "execution_count": null,
   "metadata": {
    "collapsed": false,
    "scrolled": true
   },
   "outputs": [],
   "source": [
    "for i in range(iterations):\n",
    "#     j= random.randint(0,9999)\n",
    "#     user = random.choice(VegasUser)\n",
    "#     CUser[j] = user\n",
    "#     irest = random.choice(IuVegas[user])\n",
    "#     Cirest[j] = irest\n",
    "#     jrest = random.choice(list(set(VegasRest) - set(IuVegas[user])))\n",
    "#     Cjrest[j] = jrest\n",
    "    if i >=  5000000:\n",
    "        j =np.random.randint(0,5000000)\n",
    "        user = CUser[j]\n",
    "        irest = Cirest[j]\n",
    "        jrest = Cjrest[j]\n",
    "    else:\n",
    "        user = CUser[i]\n",
    "        irest = Cirest[i]\n",
    "        jrest = Cjrest[i]\n",
    "\n",
    "    xuij = np.dot(Gamma_u[user],Gamma_r[irest]-Gamma_r[jrest])\n",
    "    x= Alpha*(logit(xuij)*(Gamma_r[irest]-Gamma_r[jrest]))\n",
    "    y = Alpha*(logit(xuij)*(Gamma_u[user]))\n",
    "    z = Alpha*(logit(xuij)*(-Gamma_u[user]))\n",
    "    \n",
    "#     for user in VegasUser:\n",
    "#         Gamma_u[user] += Alpha*Lambda*Gamma_u[user]\n",
    "#     for rest in VegasRest:\n",
    "#         Gamma_r[rest] += Alpha*Lambda*Gamma_r[rest]\n",
    "    Gamma_u[user] += x\n",
    "    Gamma_r[irest] += y\n",
    "    Gamma_r[jrest] += z\n",
    "    if i%(10**5)== 0:\n",
    "        #train_l.append(loss(CUser,Cirest,Cjrest))\n",
    "        #val_l.append(val_loss())\n",
    "        print(i/10**5) #,val_l[-1])#,train_l[-1])"
   ]
  },
  {
   "cell_type": "code",
   "execution_count": null,
   "metadata": {
    "collapsed": false,
    "scrolled": false
   },
   "outputs": [],
   "source": [
    "len(val_l)"
   ]
  },
  {
   "cell_type": "code",
   "execution_count": null,
   "metadata": {
    "collapsed": false,
    "scrolled": true
   },
   "outputs": [],
   "source": [
    "plt.plot(range(50),val_l)\n",
    "plt.show()"
   ]
  },
  {
   "cell_type": "code",
   "execution_count": null,
   "metadata": {
    "collapsed": false,
    "scrolled": true
   },
   "outputs": [],
   "source": [
    "plt.plot(range(100),train_l)\n",
    "plt.show()"
   ]
  },
  {
   "cell_type": "code",
   "execution_count": null,
   "metadata": {
    "collapsed": false
   },
   "outputs": [],
   "source": [
    "total = 0\n",
    "count = 0\n",
    "for user in VegasUser:\n",
    "    count += 1\n",
    "    print count\n",
    "    su = 0\n",
    "    i = S_ui_test[user]\n",
    "    jAbsent = []\n",
    "    if S_uj_train.has_key(user):\n",
    "        jAbsent = list(set(VegasRest) - set(S_uj_train[user]) - set(S_ui_test))\n",
    "    else:\n",
    "        jAbsent = list(set(VegasRest) - set(S_ui_test))\n",
    "    \n",
    "    for j in jAbsent:\n",
    "        if np.dot(Gamma_u[user],Gamma_r[i]) > np.dot(Gamma_u[user],Gamma_r[j]):\n",
    "            su += 1\n",
    "    total += su*1.0/(len(jAbsent))\n",
    "total = total*1.0/(len(VegasUser))\n",
    "print total"
   ]
  },
  {
   "cell_type": "markdown",
   "metadata": {},
   "source": [
    "0.01, Sai's method, 10**-4, 10000 iter, K = 10, AUC = 0.515965891654"
   ]
  },
  {
   "cell_type": "markdown",
   "metadata": {},
   "source": [
    "0, 0.84067086067, 10**-4, 10**8, K = 10\n",
    "0, 0.84409049708, 10**-4, 2*10**8, K = 10\n",
    "0,0.84474016538,10**-4,3*10**8,k=10\n",
    "0,0.84431301534,3X10**-4\n",
    "0,0.839135075941\n",
    "0,0.842078864994,10**-4,10**8,k=16\n",
    "0,0.843955989018,10**-4,2*10**8,k=16,,\n",
    "0,0.8442609638, 10**-4,3*10**8,k=16\n",
    "0.840741215544, k = 8\n",
    "0.83630605302, k = 4\n",
    "0.831370757313, k = 2\n",
    "0.820573011204, k = 1\n"
   ]
  },
  {
   "cell_type": "markdown",
   "metadata": {
    "collapsed": true
   },
   "source": [
    "### Baseline"
   ]
  },
  {
   "cell_type": "code",
   "execution_count": null,
   "metadata": {
    "collapsed": true
   },
   "outputs": [],
   "source": [
    "UiVegas_b = readJSONfromFile('yelp_user_UiVegas.json') \n",
    "UiVegas_b = UiVegas_b[0]"
   ]
  },
  {
   "cell_type": "code",
   "execution_count": null,
   "metadata": {
    "collapsed": false
   },
   "outputs": [],
   "source": [
    "Ui_len= {}\n",
    "for rest in UiVegas_b:\n",
    "    Ui_len[rest]= len(UiVegas_b[rest])\n"
   ]
  },
  {
   "cell_type": "code",
   "execution_count": null,
   "metadata": {
    "collapsed": false
   },
   "outputs": [],
   "source": [
    "total = 0\n",
    "count = 0\n",
    "for user in VegasUser:\n",
    "    #count += 1\n",
    "    #print count\n",
    "    su = 0\n",
    "    i = S_ui_test[user]\n",
    "    xui = Ui_len[i]\n",
    "    jAbsent = []\n",
    "    if S_uj_train.has_key(user):\n",
    "        jAbsent = list(set(VegasRest) - set(S_uj_train[user]) - set(S_ui_test))\n",
    "    else:\n",
    "        jAbsent = list(set(VegasRest) - set(S_ui_test))\n",
    "    \n",
    "    for j in jAbsent:\n",
    "        xuj = Ui_len[j]\n",
    "        if xui > xuj :\n",
    "            su += 1\n",
    "    total += su*1.0/(len(jAbsent))\n",
    "total = total*1.0/(len(VegasUser))\n"
   ]
  },
  {
   "cell_type": "code",
   "execution_count": null,
   "metadata": {
    "collapsed": false
   },
   "outputs": [],
   "source": [
    "print(\"Baseline AUC ={}\".format(total))"
   ]
  },
  {
   "cell_type": "code",
   "execution_count": null,
   "metadata": {
    "collapsed": true
   },
   "outputs": [],
   "source": []
  }
 ],
 "metadata": {
  "anaconda-cloud": {},
  "kernelspec": {
   "display_name": "Python 2",
   "language": "python",
   "name": "python2"
  },
  "language_info": {
   "codemirror_mode": {
    "name": "ipython",
    "version": 2
   },
   "file_extension": ".py",
   "mimetype": "text/x-python",
   "name": "python",
   "nbconvert_exporter": "python",
   "pygments_lexer": "ipython2",
   "version": "2.7.13"
  }
 },
 "nbformat": 4,
 "nbformat_minor": 2
}
