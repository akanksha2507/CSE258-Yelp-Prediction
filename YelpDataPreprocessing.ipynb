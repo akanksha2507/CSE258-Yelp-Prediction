{
 "cells": [
  {
   "cell_type": "markdown",
   "metadata": {},
   "source": [
    "### This  file is specific to preprocessing and first-round data cleaning requirements. Take the new JSON files generated from here and use it separately for the purposes of exploration and modelling"
   ]
  },
  {
   "cell_type": "code",
   "execution_count": 1,
   "metadata": {
    "collapsed": true
   },
   "outputs": [],
   "source": [
    "import numpy as np\n",
    "import scipy\n",
    "import random\n",
    "import urllib\n",
    "import matplotlib.pyplot as plt\n",
    "import json"
   ]
  },
  {
   "cell_type": "code",
   "execution_count": 2,
   "metadata": {
    "collapsed": true
   },
   "outputs": [],
   "source": [
    "random.seed(0) #set an initial seed so that we can reproduce consistently"
   ]
  },
  {
   "cell_type": "code",
   "execution_count": 3,
   "metadata": {
    "collapsed": false
   },
   "outputs": [],
   "source": [
    "def readJSONfromFile(fname):\n",
    "    yelp_data = []\n",
    "    with open(fname) as f:\n",
    "        for line in f:\n",
    "            yelp_data.append(json.loads(line))\n",
    "    return yelp_data"
   ]
  },
  {
   "cell_type": "code",
   "execution_count": 4,
   "metadata": {
    "collapsed": false
   },
   "outputs": [],
   "source": [
    "data = readJSONfromFile('data/yelp_academic_dataset_business.json')"
   ]
  },
  {
   "cell_type": "code",
   "execution_count": 5,
   "metadata": {
    "collapsed": false
   },
   "outputs": [
    {
     "name": "stdout",
     "output_type": "stream",
     "text": [
      "The dataset has 144072 businesses\n"
     ]
    }
   ],
   "source": [
    "print(\"The dataset has {} businesses\".format(len(data)))"
   ]
  },
  {
   "cell_type": "code",
   "execution_count": 6,
   "metadata": {
    "collapsed": false
   },
   "outputs": [
    {
     "data": {
      "text/plain": [
       "{u'address': u'1500 N Green Valley Pkwy, Ste 230',\n",
       " u'attributes': [u'Alcohol: none',\n",
       "  u\"Ambience: {'romantic': False, 'intimate': False, 'classy': False, 'hipster': False, 'divey': False, 'touristy': False, 'trendy': False, 'upscale': False, 'casual': True}\",\n",
       "  u'BusinessAcceptsCreditCards: True',\n",
       "  u\"BusinessParking: {'garage': False, 'street': False, 'validated': False, 'lot': True, 'valet': False}\",\n",
       "  u'Caters: True',\n",
       "  u'GoodForKids: True',\n",
       "  u\"GoodForMeal: {'dessert': False, 'latenight': False, 'lunch': True, 'dinner': True, 'breakfast': False, 'brunch': False}\",\n",
       "  u'HasTV: True',\n",
       "  u'NoiseLevel: quiet',\n",
       "  u'OutdoorSeating: False',\n",
       "  u'RestaurantsAttire: casual',\n",
       "  u'RestaurantsDelivery: False',\n",
       "  u'RestaurantsGoodForGroups: True',\n",
       "  u'RestaurantsPriceRange2: 1',\n",
       "  u'RestaurantsReservations: False',\n",
       "  u'RestaurantsTableService: False',\n",
       "  u'RestaurantsTakeOut: True',\n",
       "  u'WiFi: no'],\n",
       " u'business_id': u'42romV8altAeuZuP2OC1gw',\n",
       " u'categories': [u'Hawaiian', u'Restaurants', u'Barbeque'],\n",
       " u'city': u'Henderson',\n",
       " u'hours': [u'Monday 11:0-21:30',\n",
       "  u'Tuesday 11:0-21:30',\n",
       "  u'Wednesday 11:0-21:30',\n",
       "  u'Thursday 11:0-21:30',\n",
       "  u'Friday 11:0-21:30',\n",
       "  u'Saturday 11:0-21:30',\n",
       "  u'Sunday 11:30-21:0'],\n",
       " u'is_open': 0,\n",
       " u'latitude': 36.029596485,\n",
       " u'longitude': -115.085821152,\n",
       " u'name': u'Ohana Hawaiian BBQ',\n",
       " u'neighborhood': u'',\n",
       " u'postal_code': u'89074',\n",
       " u'review_count': 38,\n",
       " u'stars': 4.0,\n",
       " u'state': u'NV',\n",
       " u'type': u'business'}"
      ]
     },
     "execution_count": 6,
     "metadata": {},
     "output_type": "execute_result"
    }
   ],
   "source": [
    "data[11]"
   ]
  },
  {
   "cell_type": "markdown",
   "metadata": {},
   "source": [
    "### Restaurant Data preprocessing\n",
    "\n",
    "#### We only want restaurant data. Yelp data is clean, in the sense that every business which is a restaurant, has a restaurant category at the least. Bakeries or sometime coffee places are not tagged restaurant, which is acceptable"
   ]
  },
  {
   "cell_type": "code",
   "execution_count": 7,
   "metadata": {
    "collapsed": false
   },
   "outputs": [],
   "source": [
    "restaurant_data = []\n",
    "restaurant_id_set = set()   #set of ids of business = restaurant useful for processing of other json files\n",
    "for business in data:\n",
    "    if business[\"categories\"]!= None and \"Restaurants\" in business[\"categories\"]:\n",
    "        restaurant_data.append(business)\n",
    "        restaurant_id_set.add(business[\"business_id\"])\n",
    "        "
   ]
  },
  {
   "cell_type": "code",
   "execution_count": 9,
   "metadata": {
    "collapsed": false
   },
   "outputs": [
    {
     "name": "stdout",
     "output_type": "stream",
     "text": [
      "The number of businesses which are just restaurants is 48485 of 144072 businesses\n"
     ]
    }
   ],
   "source": [
    "print(\"The number of businesses which are just restaurants is {} of {} businesses\".\\\n",
    "      format(len(restaurant_data), len(data)))"
   ]
  },
  {
   "cell_type": "code",
   "execution_count": 10,
   "metadata": {
    "collapsed": false
   },
   "outputs": [],
   "source": [
    "with open('data/yelp_restaurant_data.json', 'w') as outfile:\n",
    "    json.dump(restaurant_data, outfile)\n"
   ]
  },
  {
   "cell_type": "markdown",
   "metadata": {},
   "source": [
    "### User review data processing\n",
    "#### Choose only those reviews pertaining to restaurants and store the reduced set of reviews"
   ]
  },
  {
   "cell_type": "code",
   "execution_count": 11,
   "metadata": {
    "collapsed": false
   },
   "outputs": [],
   "source": [
    "yelp_user_review_data = []\n",
    "with open(\"data/yelp_academic_dataset_review.json\", \"U\") as f:\n",
    "    for line in f:\n",
    "        review = json.loads(line)\n",
    "        if review[\"business_id\"] in restaurant_id_set:\n",
    "            yelp_user_review_data.append(review)"
   ]
  },
  {
   "cell_type": "code",
   "execution_count": 13,
   "metadata": {
    "collapsed": false
   },
   "outputs": [
    {
     "name": "stdout",
     "output_type": "stream",
     "text": [
      "Number of user reviews pertaining to restaurants is 2577298\n"
     ]
    }
   ],
   "source": [
    "print(\"Number of user reviews pertaining to restaurants is {}\".format(len(yelp_user_review_data)))"
   ]
  },
  {
   "cell_type": "code",
   "execution_count": 14,
   "metadata": {
    "collapsed": true
   },
   "outputs": [],
   "source": [
    "with open('data/yelp_user_review_data.json', 'w') as outfile:\n",
    "    json.dump(yelp_user_review_data, outfile)"
   ]
  },
  {
   "cell_type": "code",
   "execution_count": 16,
   "metadata": {
    "collapsed": true
   },
   "outputs": [],
   "source": [
    "f.close()\n",
    "outfile.close()"
   ]
  },
  {
   "cell_type": "markdown",
   "metadata": {},
   "source": [
    "### User data processing\n",
    "#### the user.json file has many attributes for each JSON object which are not relevant to our task. These are removed and a new json file is created\n",
    "\n",
    "#### The attributes retained has the review_count and the average_stars which is across all Yelp business. We can get the right count from the restaurant review data specifically.\n",
    "#### We only want the users who have written atleast one review (i.e. gone to one restaurant at the least). "
   ]
  },
  {
   "cell_type": "code",
   "execution_count": 17,
   "metadata": {
    "collapsed": false
   },
   "outputs": [],
   "source": [
    "yelp_user_data = []\n",
    "keep_property_arr= [\"user_id\",\"name\",\"yelping_since\",\"review_count\", \"average_stars\",\"fans\"]  \n",
    "#these are the attributes to keep\n",
    "\n",
    "with open(\"data/yelp_academic_dataset_user.json\", \"U\") as f:\n",
    "    for line in f:\n",
    "        user = json.loads(line)\n",
    "        user_jsobobj = dict()\n",
    "        for property in keep_property_arr:\n",
    "            user_jsobobj[property] = user[property]\n",
    "        yelp_user_data.append(user_jsobobj)\n",
    "        "
   ]
  },
  {
   "cell_type": "code",
   "execution_count": 18,
   "metadata": {
    "collapsed": false
   },
   "outputs": [
    {
     "data": {
      "text/plain": [
       "{'average_stars': 3.76,\n",
       " 'fans': 15,\n",
       " 'name': u'Derek',\n",
       " 'review_count': 341,\n",
       " 'user_id': u'i3aWph4gS_pUEV8f5i5lzg',\n",
       " 'yelping_since': u'2013-05-02'}"
      ]
     },
     "execution_count": 18,
     "metadata": {},
     "output_type": "execute_result"
    }
   ],
   "source": [
    "yelp_user_data[100]"
   ]
  },
  {
   "cell_type": "code",
   "execution_count": 19,
   "metadata": {
    "collapsed": false
   },
   "outputs": [
    {
     "data": {
      "text/plain": [
       "1029432"
      ]
     },
     "execution_count": 19,
     "metadata": {},
     "output_type": "execute_result"
    }
   ],
   "source": [
    "len(yelp_user_data)"
   ]
  },
  {
   "cell_type": "code",
   "execution_count": 20,
   "metadata": {
    "collapsed": false
   },
   "outputs": [
    {
     "name": "stdout",
     "output_type": "stream",
     "text": [
      "File yelp_user_data.json written\n"
     ]
    }
   ],
   "source": [
    "with open('data/yelp_user_data.json', 'w') as outfile:\n",
    "    json.dump(yelp_user_data, outfile)\n",
    "    print(\"File {} written\".format(\"yelp_user_data.json\"))\n",
    "    outfile.close()\n",
    "    f.close()"
   ]
  },
  {
   "cell_type": "markdown",
   "metadata": {},
   "source": [
    "#### Generate the dictionaries Iu and Ui"
   ]
  },
  {
   "cell_type": "code",
   "execution_count": 21,
   "metadata": {
    "collapsed": true
   },
   "outputs": [],
   "source": [
    "yelp_restaurant_data = []\n",
    "with open(\"data/yelp_restaurant_data.json\",\"U\") as infile:\n",
    "    yelp_restaurant_data = json.load(infile)\n",
    "infile.close()"
   ]
  },
  {
   "cell_type": "code",
   "execution_count": 23,
   "metadata": {
    "collapsed": false
   },
   "outputs": [
    {
     "name": "stdout",
     "output_type": "stream",
     "text": [
      "File read\n"
     ]
    }
   ],
   "source": [
    "#with open(\"data/yelp_academic_dataset_review.json\",\"U\") as infile:\n",
    "yelp_user_review_data = []\n",
    "with open(\"data/yelp_user_review_data.json\",\"U\") as infile:\n",
    "    yelp_user_review_data = json.load(infile)\n",
    "print('File read')"
   ]
  },
  {
   "cell_type": "code",
   "execution_count": 24,
   "metadata": {
    "collapsed": true
   },
   "outputs": [],
   "source": [
    "# we have now the entire dataset limited to the restaurants and users concerned in the reviews section. The assumption\n",
    "# is we only consider these users and restaurants for prediction\n"
   ]
  },
  {
   "cell_type": "code",
   "execution_count": 25,
   "metadata": {
    "collapsed": false
   },
   "outputs": [],
   "source": [
    "yelp_restaurant_set = set() \n",
    "yelp_restaurant_Ui = dict() #list of users who have visited (aka reviewed) each restaurant\n",
    "yelp_user_set = set()\n",
    "yelp_user_Iu = dict()  #list of restaurants visited by each user"
   ]
  },
  {
   "cell_type": "code",
   "execution_count": 26,
   "metadata": {
    "collapsed": false
   },
   "outputs": [],
   "source": [
    "for review in yelp_user_review_data:\n",
    "    user_id,restaurant_id = review[\"user_id\"], review[\"business_id\"]\n",
    "    if restaurant_id not in yelp_restaurant_set:\n",
    "        yelp_restaurant_set.add(restaurant_id)\n",
    "    if user_id not in yelp_user_set:\n",
    "        yelp_user_set.add(user_id)\n",
    "        \n",
    "    if restaurant_id not in yelp_restaurant_Ui:\n",
    "        yelp_restaurant_Ui[restaurant_id] = [user_id]\n",
    "    else:\n",
    "        yelp_restaurant_Ui[restaurant_id].append(user_id)\n",
    "        \n",
    "    if user_id not in yelp_user_Iu:\n",
    "        yelp_user_Iu[user_id] = [restaurant_id]\n",
    "    else:\n",
    "        yelp_user_Iu[user_id].append(restaurant_id)"
   ]
  },
  {
   "cell_type": "code",
   "execution_count": 27,
   "metadata": {
    "collapsed": false
   },
   "outputs": [
    {
     "name": "stdout",
     "output_type": "stream",
     "text": [
      "Number of restaurants: 48485 48485\n",
      "Number of users: 721779 721779\n"
     ]
    }
   ],
   "source": [
    "print \"Number of restaurants: {} {}\".format(len(yelp_restaurant_set), len(yelp_restaurant_Ui))\n",
    "print \"Number of users: {} {}\".format(len(yelp_user_set),len(yelp_user_Iu))"
   ]
  },
  {
   "cell_type": "code",
   "execution_count": 28,
   "metadata": {
    "collapsed": false
   },
   "outputs": [
    {
     "name": "stdout",
     "output_type": "stream",
     "text": [
      "Number of users who have reviewed Ohana Hawaiian BBQ with business id = 42romV8altAeuZuP2OC1gw is 38\n"
     ]
    }
   ],
   "source": [
    "print \"Number of users who have reviewed Ohana Hawaiian BBQ with business id = 42romV8altAeuZuP2OC1gw is {}\".format\\\n",
    "(len(yelp_restaurant_Ui[\"42romV8altAeuZuP2OC1gw\"]))"
   ]
  },
  {
   "cell_type": "code",
   "execution_count": 29,
   "metadata": {
    "collapsed": false
   },
   "outputs": [
    {
     "name": "stdout",
     "output_type": "stream",
     "text": [
      "Number of restaurants visited by user umZPUpLSJuCTXLckxA4nmg is 86\n"
     ]
    }
   ],
   "source": [
    "print \"Number of restaurants visited by user umZPUpLSJuCTXLckxA4nmg is {}\".format\\\n",
    "(len(yelp_user_Iu[\"umZPUpLSJuCTXLckxA4nmg\"]))"
   ]
  },
  {
   "cell_type": "code",
   "execution_count": 30,
   "metadata": {
    "collapsed": false
   },
   "outputs": [
    {
     "name": "stdout",
     "output_type": "stream",
     "text": [
      "Ui File written\n"
     ]
    }
   ],
   "source": [
    "with open(\"data/yelp_restaurant_Ui.json\",\"w\") as outfile:\n",
    "    json.dump(yelp_restaurant_Ui,outfile)\n",
    "print(\"Ui File written\")\n",
    "outfile.close()"
   ]
  },
  {
   "cell_type": "code",
   "execution_count": 31,
   "metadata": {
    "collapsed": false
   },
   "outputs": [
    {
     "name": "stdout",
     "output_type": "stream",
     "text": [
      "File written\n"
     ]
    }
   ],
   "source": [
    "with open(\"data/yelp_user_Iu.json\",\"w\") as outfile:\n",
    "    json.dump(yelp_user_Iu,outfile)\n",
    "\n",
    "print(\"File written\")\n",
    "outfile.close()"
   ]
  },
  {
   "cell_type": "code",
   "execution_count": 37,
   "metadata": {
    "collapsed": true
   },
   "outputs": [],
   "source": [
    "# A plot of number of reviews given by each user"
   ]
  },
  {
   "cell_type": "code",
   "execution_count": 32,
   "metadata": {
    "collapsed": false
   },
   "outputs": [],
   "source": [
    "user_count_dict =dict()\n",
    "for user in yelp_user_Iu:\n",
    "    if len(yelp_user_Iu[user]) not in user_count_dict:\n",
    "        user_count_dict[len(yelp_user_Iu[user])] = 1\n",
    "    else:\n",
    "        user_count_dict[len(yelp_user_Iu[user])]+=1"
   ]
  },
  {
   "cell_type": "code",
   "execution_count": 33,
   "metadata": {
    "collapsed": false
   },
   "outputs": [],
   "source": [
    "#user_count_dict"
   ]
  },
  {
   "cell_type": "code",
   "execution_count": 36,
   "metadata": {
    "collapsed": false
   },
   "outputs": [
    {
     "data": {
      "image/png": "[encoded data removed]",
      "text/plain": [
       "<matplotlib.figure.Figure at 0x106ae2550>"
      ]
     },
     "metadata": {},
     "output_type": "display_data"
    }
   ],
   "source": [
    "plt.hist(user_count_dict.values())\n",
    "plt.show()"
   ]
  },
  {
   "cell_type": "code",
   "execution_count": 38,
   "metadata": {
    "collapsed": false
   },
   "outputs": [],
   "source": [
    "rest_count =0\n",
    "\n",
    "for rest in yelp_restaurant_Ui:\n",
    "    if len(yelp_restaurant_Ui[rest]) <=10:\n",
    "        rest_count+=1"
   ]
  },
  {
   "cell_type": "code",
   "execution_count": 39,
   "metadata": {
    "collapsed": false
   },
   "outputs": [
    {
     "name": "stdout",
     "output_type": "stream",
     "text": [
      "Number of restaurants who have been reviewed by less than 10 users are: 17998 of 48485 restaurants\n"
     ]
    }
   ],
   "source": [
    "print \"Number of restaurants who have been reviewed by less than 10 users are: {} of {} restaurants\".\\\n",
    "format(rest_count, len(yelp_restaurant_Ui))"
   ]
  },
  {
   "cell_type": "code",
   "execution_count": null,
   "metadata": {
    "collapsed": true
   },
   "outputs": [],
   "source": []
  }
 ],
 "metadata": {
  "kernelspec": {
   "display_name": "Python 2",
   "language": "python",
   "name": "python2"
  },
  "language_info": {
   "codemirror_mode": {
    "name": "ipython",
    "version": 2
   },
   "file_extension": ".py",
   "mimetype": "text/x-python",
   "name": "python",
   "nbconvert_exporter": "python",
   "pygments_lexer": "ipython2",
   "version": "2.7.13"
  }
 },
 "nbformat": 4,
 "nbformat_minor": 2
}
